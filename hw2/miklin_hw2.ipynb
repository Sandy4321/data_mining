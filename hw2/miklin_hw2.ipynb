{
 "cells": [
  {
   "cell_type": "markdown",
   "metadata": {},
   "source": [
    "# Алгоритмы интеллектуальной обработки больших объемов данных\n",
    "## Домашнее задание №3: Линейные модели\n"
   ]
  },
  {
   "cell_type": "markdown",
   "metadata": {},
   "source": [
    "###### <hr\\>\n",
    "**Общая информация**\n",
    "\n",
    "**Срок сдачи:** 8 апреля 2019, 06:00 <br\\>\n",
    "**Штраф за опоздание:** -2 балла после 06:00 8 апреля, -4 балла после 06:00 15 апреля, -6 баллов после 06:00 22 апреля  -8 баллов после 06:00 29 апреля.\n",
    "\n",
    "При отправлении ДЗ указывайте фамилию в названии файла<br\\>\n",
    "\n",
    "Используйте данный Ipython Notebook при оформлении домашнего задания.\n",
    "\n",
    "**Штрафные баллы:**\n",
    "\n",
    "1. Невыполнение PEP8 -1 балл\n",
    "2. Отсутствие фамилии в имени скрипта (скрипт должен называться по аналогии со stroykova_hw2.ipynb) -1 балл\n",
    "3. Все строчки должны быть выполнены. Нужно, чтобы output команды можно было увидеть уже в git'е. В противном случае -1 балл\n",
    "4. При оформлении ДЗ нужно пользоваться данным файлом в качестве шаблона. Не нужно удалять и видоизменять написанный код и текст, если явно не указана такая возможность. В противном случае -1 балл\n",
    "<hr\\>"
   ]
  },
  {
   "cell_type": "code",
   "execution_count": 1,
   "metadata": {},
   "outputs": [],
   "source": [
    "import pandas as pd\n",
    "import numpy as np\n",
    "import matplotlib.pyplot as plt\n",
    "\n",
    "%matplotlib inline\n",
    "\n",
    "plt.style.use('ggplot')\n",
    "plt.rcParams['figure.figsize'] = (12,5)"
   ]
  },
  {
   "cell_type": "markdown",
   "metadata": {},
   "source": [
    "Здравствуйте, уважаемые студенты! \n",
    "\n",
    "В этом задании мы будем реализовать линейные модели. Необходимо реализовать линейную и логистическую регрессии с L2 регуляризацией"
   ]
  },
  {
   "cell_type": "markdown",
   "metadata": {},
   "source": [
    "# Теоретическое введение\n",
    "\n"
   ]
  },
  {
   "cell_type": "markdown",
   "metadata": {},
   "source": [
    "*** Что почитать по теории ***\n",
    "\n",
    "Одна из лучших книг по ML $-$ \"Pattern Recognition and Machine Learning\" Bishop, Christopher. "
   ]
  },
  {
   "cell_type": "markdown",
   "metadata": {},
   "source": [
    "Линейная регрессия решает задачу регрессии и оптимизирует функцию потерь MSE \n",
    "\n",
    "$$L(w) =  \\frac{1}{N}\\left[\\sum_i (y_i - a_i) ^ 2 \\right], $$ где $y_i$ $-$ целевая функция,  $a_i = a(x_i) =  \\langle\\,x_i,w\\rangle ,$ $-$ предсказание алгоритма на объекте $x_i$, $w$ $-$ вектор весов (размерности $D$), $x_i$ $-$ вектор признаков (такой же размерности $D$).\n"
   ]
  },
  {
   "cell_type": "markdown",
   "metadata": {},
   "source": [
    "Логистическая регрессия является линейным классификатором, который оптимизирует так называемый функционал log loss:"
   ]
  },
  {
   "cell_type": "markdown",
   "metadata": {},
   "source": [
    "$$L(w) = - \\frac{1}{N}\\left[\\sum_i y_i \\log a_i + ( 1 - y_i) \\log (1 - a_i) \\right],$$\n",
    "где  $y_i  \\in \\{0,1\\}$ $-$ метка класса, $a_i$ $-$ предсказание алгоритма на объекте $x_i$. Модель пытается предсказать апостериорую вероятность объекта принадлежать к классу \"1\":\n",
    "$$ p(y_i = 1 | x_i) = a(x_i) =  \\sigma( \\langle\\,x_i,w\\rangle ),$$\n",
    "$w$ $-$ вектор весов (размерности $D$), $x_i$ $-$ вектор признаков (такой же размерности $D$).\n",
    "\n",
    "Функция $\\sigma(x)$ $-$ нелинейная функция, пероводящее скалярное произведение объекта на веса в число $\\in (0,1)$ (мы же моделируем вероятность все-таки!)\n",
    "\n",
    "$$\\sigma(x) = \\frac{1}{1 + \\exp(-x)}$$\n",
    "\n",
    "Если внимательно посмотреть на функцию потерь, то можно заметить, что в зависимости от правильного ответа алгоритм штрафуется или функцией $-\\log a_i$, или функцией $-\\log (1 - a_i)$.\n",
    "\n"
   ]
  },
  {
   "cell_type": "markdown",
   "metadata": {},
   "source": [
    "Часто для решения проблем, которые так или иначе связаны с проблемой переобучения, в функционал качества добавляют слагаемое, которое называют ***регуляризацией***. Итоговый функционал для линейной регрессии тогда принимает вид:\n",
    "\n",
    "$$L(w) =  \\frac{1}{N}\\left[\\sum_i (y_i - a_i) ^ 2 \\right] + \\frac{1}{C}R(w) $$\n",
    "\n",
    "Для логистической: \n",
    "$$L(w) = - \\frac{1}{N}\\left[\\sum_i y_i \\log a_i + ( 1 - y_i) \\log (1 - a_i) \\right] +  \\frac{1}{C}R(w)$$\n",
    "\n",
    "Самое понятие регуляризации введено основателем ВМК академиком Тихоновым https://ru.wikipedia.org/wiki/Метод_регуляризации_Тихонова\n",
    "\n",
    "Идейно методика регуляризации заключается в следующем $-$ мы рассматриваем некорректно поставленную задачу (что это такое можно найти в интернете), для того чтобы сузить набор различных вариантов (лучшие из которых будут являться переобучением ) мы вводим дополнительные ограничения на множество искомых решений. На лекции Вы уже рассмотрели два варианта регуляризации.\n",
    "\n",
    "$L1$ регуляризация:\n",
    "$$R(w) = \\sum_{j=1}^{D}|w_j|$$\n",
    "$L2$ регуляризация:\n",
    "$$R(w) =  \\sum_{j=1}^{D}w_j^2$$\n",
    "\n",
    "С их помощью мы ограничиваем модель в  возможности выбора каких угодно весов минимизирующих наш лосс, модель уже не сможет подстроиться под данные как ей угодно. \n",
    "\n",
    "Вам нужно добавить соотвествущую Вашему варианту $L2$ регуляризацию.\n",
    "\n",
    "И так, мы поняли, какую функцию ошибки будем минимизировать, разобрались, как получить предсказания по объекту и обученным весам. Осталось разобраться, как получить оптимальные веса. Для этого нужно выбрать какой-то метод оптимизации.\n",
    "\n"
   ]
  },
  {
   "cell_type": "markdown",
   "metadata": {},
   "source": [
    "Градиентный спуск является самым популярным алгоритмом обучения линейных моделей. В этом задании Вам предложат реализовать стохастический градиентный спуск или  мини-батч градиентный спуск (мини-батч на русский язык довольно сложно перевести, многие переводят это как \"пакетный\", но мне не кажется этот перевод удачным). Далее нам потребуется определение **эпохи**.\n",
    "Эпохой в SGD и MB-GD называется один проход по **всем** объектам в обучающей выборки.\n",
    "* В SGD градиент расчитывается по одному случайному объекту. Сам алгоритм выглядит примерно так:\n",
    "        1) Перемешать выборку\n",
    "        2) Посчитать градиент функции потерь на одном объекте (далее один объект тоже будем называть батчем)\n",
    "        3) Сделать шаг спуска\n",
    "        4) Повторять 2) и 3) пока не пройдет максимальное число эпох.\n",
    "* В Mini Batch SGD - по подвыборке объектов. Сам алгоритм выглядит примерно так::\n",
    "        1) Перемешать выборку, выбрать размер мини-батча (от 1 до размера выборки)\n",
    "        2) Почитать градиент функции потерь по мини-батчу (не забыть поделить на  число объектов в мини-батче)\n",
    "        3) Сделать шаг спуска\n",
    "        4) Повторять 2) и 3) пока не пройдет максимальное число эпох.\n",
    "* Для отладки алгоритма реализуйте возможность  вывода средней ошибки на обучении модели по объектам (мини-батчам). После шага градиентного спуска посчитайте значение ошибки на объекте (или мини-батче), а затем усредните, например, по ста шагам. Если обучение проходит корректно, то мы должны увидеть, что каждые 100 шагов функция потерь уменьшается. \n",
    "* Правило останова - максимальное количество эпох\n",
    "    \n"
   ]
  },
  {
   "cell_type": "markdown",
   "metadata": {},
   "source": [
    "# Теоретические вопросы (2 балла)\n",
    "В этой части Вам будут предложены теоретичские вопросы и задачи по теме. Вы, конечно, можете списать их у своего товарища или найти решение в интернете, но учтите, что они обязательно войдут в теоретический коллоквиум. Лучше разобраться в теме сейчас и успешно ответить на коллоквиуме, чем списать, не разобравшись в материале, и быть терзаемым совестью. \n",
    "\n",
    "\n",
    "Формулы надо оформлять в формате **LaTeX**."
   ]
  },
  {
   "cell_type": "markdown",
   "metadata": {},
   "source": [
    "Задача 1. Градиент для линейной регрессии.\n",
    "* Выпишите формулу обновления весов для линейной регрессии с L2 регуляризацией для мини-батч градиентого спуска размера $n$:\n",
    "\n",
    "$$ w_{new} = w_{old} - ... $$\n",
    "\n",
    " Отнеситесь к этому пункту максимально серьезно, это Вам нужно будет реализовать в задании.\n",
    " \n",
    "Проанализруйте итоговую формулу градиента - как  интуитивно можно  описать, чему равен градиент?"
   ]
  },
  {
   "cell_type": "markdown",
   "metadata": {},
   "source": [
    "***Ваше решение здесь***\n",
    "$$ w_{new} = w_{old} - \\alpha \\nabla_w Q(w_{old}) $$\n",
    "$$ Q(w) = \\frac{1}{N}\\left[\\sum_i (y_i - a_i) ^ 2 \\right] +  \\frac{1}{C}w^2 = \\frac{1}{N}\\left[\\sum_i (y_i - \\langle\\,x_i,w\\rangle) ^ 2 \\right] +  \\frac{1}{C}w^2 $$\n",
    "$$ \\nabla_w Q(w) = \\frac{2}{N}\\left[\\sum_i (\\langle\\,x_i,w\\rangle - y_i)x_i \\right] + \\frac{2}{C}w$$\n",
    "\n",
    "или в матричной форме:\n",
    "$$ Q(w) =  \\frac{1}{N}(X w - y)^T (X w - y) + \\frac{1}{C}w^2$$\n",
    "$$ \\nabla_w Q(w) = (2 X^T X)w - 2 X^T y + \\frac{2}{C}w$$\n",
    "\n",
    "$$ =>  w_{new} = w_{old} - \\alpha (\\frac{2}{N}\\left[\\sum_i (\\langle\\,x_i,w_{old}\\rangle - y_i)x_i \\right] + \\frac{2}{C}w_{old})$$"
   ]
  },
  {
   "cell_type": "markdown",
   "metadata": {},
   "source": [
    "Задача 2. Градиент для логистической регрессии.\n",
    "* Выпишите формулу обновления весов для логистической регрессии с L2 регуляризацией  для мини-батч градиентого спуска размера $n$:\n",
    "\n",
    "$$ w_{new} = w_{old} - ... $$\n",
    "\n",
    " Отнеситесь к этому пункту максимально серьезно, это Вам нужно будет реализовать в задании.\n",
    " \n",
    "Проанализруйте итоговую формулу градиента - как  интуитивно можно  описать, чему равен градиент? Как соотносится этот градиент с градиентом, возникающий в задаче линейной регрессии?"
   ]
  },
  {
   "cell_type": "markdown",
   "metadata": {},
   "source": [
    "***Ваше решение здесь***\n",
    "$$ w_{new} = w_{old} - \\alpha \\nabla_w Q(w_{old}) $$\n",
    "$$ Q(w) = - \\frac{1}{N}\\left[\\sum_i y_i \\log a_i + ( 1 - y_i) \\log (1 - a_i) \\right] +  \\frac{1}{C}w^2,$$ \n",
    "где $a(x_i) =  \\sigma( \\langle\\,x_i,w\\rangle ) = \\sigma(u).$ Причем $ \\sigma' = \\sigma(1-\\sigma) $\n",
    "\n",
    "$$ \\nabla_w Q(w) = - \\frac{1}{N}\\left[\\sum_i (y_i \\frac{a_i'}{a_i} + (1-y_i)\\frac{(1-a_i)'}{1-a_i} \\right] + \\frac{2}{C}w = $$\n",
    "$$= - \\frac{1}{N}\\left[\\sum_i (y_i \\frac{\\sigma(u)(1-\\sigma(u))u'}{\\sigma(u)} - (1-y_i)\\frac{\\sigma(u)(1-\\sigma(u))u'}{1-\\sigma(u)} \\right] + \\frac{2}{C}w = $$\n",
    "$$= - \\frac{1}{N}\\left[\\sum_i (y_i \\frac{(1-\\sigma(u))u'}{1} - (1-y_i)\\frac{\\sigma(u)u'}{1} \\right] + \\frac{2}{C}w = \\left\\{\n",
    "\\begin{aligned}\n",
    "\\sigma(u) = \\sigma( \\langle\\,x_i,w\\rangle )\\\\\n",
    "u' = \\langle\\,x_i,w\\rangle' = x_i\\\\\n",
    "\\end{aligned}\n",
    "\\right\\} = $$\n",
    "$$= - \\frac{1}{N}\\left[\\sum_i (y_i(1-\\sigma( \\langle\\,x_i,w\\rangle ))x_i - (1-y_i)\\sigma( \\langle\\,x_i,w\\rangle )x_i \\right] + \\frac{2}{C}w = $$\n",
    "$$= - \\frac{1}{N}\\left[\\sum_i \\big(y_i - \\sigma( \\langle\\,x_i,w\\rangle ) \\big)x_i \\right] + \\frac{2}{C}w\n",
    "= \\frac{1}{N}\\left[\\sum_i \\big(\\sigma( \\langle\\,x_i,w\\rangle ) - y_i  \\big)x_i \\right] + \\frac{2}{C}w.$$\n",
    "$$ =>  w_{new} = w_{old} - \\alpha (\\frac{1}{N}\\left[\\sum_i \\big(\\sigma( \\langle\\,x_i,w_{old}\\rangle ) - y_i  \\big)x_i \\right] + \\frac{2}{C}w)$$"
   ]
  },
  {
   "cell_type": "markdown",
   "metadata": {},
   "source": [
    "Задача 3. Точное решение линейной регрессии\n",
    "\n",
    "На лекции было показано, что точное решение линейной регрессии имеет вид $w = (X^TX)^{-1}X^TY $. \n",
    "* Покажите, что это действительно является точкой минимума в случае, если матрица X имеет строк не меньше, чем столбцов и имеет полный ранг. Подсказка: посчитайте Гессиан и покажите, что в этом случае он положительно определен. \n",
    "* Выпишите точное решение для модели с $L2$ регуляризацией"
   ]
  },
  {
   "cell_type": "markdown",
   "metadata": {},
   "source": [
    "***Ваше решение здесь***\n",
    "$$ Q(w) =  \\frac{1}{N}(X w - y)^T (X w - y) + \\frac{1}{C}w^2$$\n",
    "$$ \\nabla_w Q(w) = (2 X^T X)w - 2 X^T y + \\frac{2}{C}w$$\n",
    "$$ \\nabla_w^2 Q(w) = 2 X^T X$$\n",
    "\n",
    "Матрица Грама любой системы векторов является неотрицательно определенной.\n",
    "А т.к. матрица X имеет строк не меньше, чем столбцов и имеет полный ранг => X - невырожденная и гессиан положительно определен. \n",
    "\n",
    "\n",
    "Точное решение для модели с $L2$ регуляризацией:\n",
    "$$ Q(w) =  \\frac{1}{N}(X w - y)^T (X w - y) + \\frac{1}{C}w^2$$\n",
    "$$ \\nabla_w Q(w) = (2 X^T X)w - 2 X^T y + \\frac{2}{C}w = 0$$\n",
    "$$w = (X^TX + \\frac{1}{C} E)^{-1}X^Ty $$"
   ]
  },
  {
   "cell_type": "markdown",
   "metadata": {},
   "source": [
    "Задача 4.  Предсказываем вероятности.\n",
    "\n",
    "Когда говорят о логистической регрессии, произносят фразу, что она \"предсказывает вероятности положительного класса\". Давайте разберемся, что же за этим стоит. Посчитаем математическое ожидание функции потерь и проверим, что предсказание алгоритма, оптимизирующее это мат. ожидание, будет являться вероятностью положительного класса. \n",
    "\n",
    "И так, функция потерь на объекте $x_i$, который имеет метку $y_i \\in \\{0,1\\}$  для предсказания $a(x_i)$ равна:\n",
    "$$L(y_i, b) =-[y_i == 1] \\log a(x_i)  - [y_i == 0] \\log(1 - a(x_i)) $$\n",
    "\n",
    "Где $[]$ означает индикатор $-$ он равен единице, если значение внутри него истинно, иначе он равен нулю. Тогда мат. ожидание при условии конкретного $x_i$  по определение мат. ожидания дискретной случайной величины:\n",
    "$$E(L | x_i) = -p(y_i = 1 |x_i ) \\log a(x_i)  - p(y_i = 0 | x_i) \\log( 1 - a(x_i))$$\n",
    "* Докажите, что значение $a(x_i)$, минимизирующее данное мат. ожидание, в точности равно $p(y_i = 1 |x_i)$, то есть равно вероятности положительного класса.\n",
    "\n",
    "Подсказка: возможно, придется воспользоваться, что  $p(y_i = 1 | x_i) + p(y_i = 0 | x_i) = 1$"
   ]
  },
  {
   "cell_type": "markdown",
   "metadata": {},
   "source": [
    "Обозначим: $ p_0 = p(y_i = 1 | x_i), p_1 = p(y_i = 0 | x_i); p_0 = 1 - p_1.$\n",
    "$$ E'_a = (-p_1 \\log a - p_0 \\log (1-a))'_a  = -p_1\\frac{a'}{a} + \\frac{a'}{1-a} = a'(\\frac{-p_1}{a}+\\frac{p_0}{1-a}) = 0$$\n",
    "$$ \\frac{p_1}{a} = \\frac{1-p_1}{1-a};  a-p_1 a = p_1(1-a) \\Rightarrow a(x_i) =  p(y_i = 1 | x_i).$$"
   ]
  },
  {
   "cell_type": "markdown",
   "metadata": {},
   "source": [
    "#  Реализация линейной модели (5 баллов)"
   ]
  },
  {
   "cell_type": "markdown",
   "metadata": {},
   "source": [
    "## Зачем нужны батчи?\n"
   ]
  },
  {
   "cell_type": "markdown",
   "metadata": {},
   "source": [
    "Как Вы могли заметить из теоретического введения, что в случае SGD, что в случа mini-batch GD,  на каждой итерации обновление весов  происходит только по небольшой части данных (1 пример в случае SGD, batch примеров в случае mini-batch). То есть для каждой итерации нам *** не нужна вся выборка***. Мы можем просто итерироваться по выборке, беря батч нужного размера (далее 1 объект тоже будем называть батчом).\n",
    "\n",
    "Легко заметить, что в этом случае нам не нужно загружать все данные в оперативную память, достаточно просто считать батч с диска, обновить веса, считать диска другой батч и так далее. В целях упрощения домашней работы, прямо с диска  мы считывать не будем, будем работать с обычными numpy array. \n",
    "\n",
    "\n",
    "\n"
   ]
  },
  {
   "cell_type": "markdown",
   "metadata": {},
   "source": [
    "## Немножко про генераторы в Python\n",
    "\n"
   ]
  },
  {
   "cell_type": "markdown",
   "metadata": {},
   "source": [
    "Идея считывания данных кусками удачно ложится на так называемые ***генераторы*** из языка Python. В данной работе Вам предлагается не только разобраться с логистической регрессией, но  и познакомиться с таким важным элементом языка.  При желании Вы можете убрать весь код, связанный с генераторами, и реализовать логистическую регрессию и без них, ***штрафоваться это никак не будет***. Главное, чтобы сама модель была реализована правильно, и все пункты были выполнены. \n",
    "\n",
    "Подробнее можно почитать вот тут https://anandology.com/python-practice-book/iterators.html\n"
   ]
  },
  {
   "cell_type": "markdown",
   "metadata": {},
   "source": [
    "К генератору стоит относиться просто как к функции, которая порождает не один объект, а целую последовательность объектов. Новое значение из последовательности генерируется с помощью ключевого слова ***yield***. Ниже Вы можете насладиться  генератором чисел Фибоначчи."
   ]
  },
  {
   "cell_type": "code",
   "execution_count": 13,
   "metadata": {},
   "outputs": [],
   "source": [
    "def fib(max_iter=4):\n",
    "    a, b = 0, 1\n",
    "    iter_num = 0\n",
    "    while 1:\n",
    "        yield a\n",
    "        a, b = b, a + b\n",
    "        iter_num += 1\n",
    "        if iter_num == max_iter:\n",
    "            break"
   ]
  },
  {
   "cell_type": "markdown",
   "metadata": {},
   "source": [
    "Вот так можно сгенерировать последовательность Фибоначчи. \n",
    "\n",
    "Заметьте, что к генераторам можно применять некоторые стандартные функции из Python, например enumerate."
   ]
  },
  {
   "cell_type": "code",
   "execution_count": 14,
   "metadata": {},
   "outputs": [
    {
     "name": "stdout",
     "output_type": "stream",
     "text": [
      "Fib num: 0 fib values: 0\n",
      "Fib num: 1 fib values: 1\n",
      "Fib num: 2 fib values: 1\n",
      "Fib num: 3 fib values: 2\n"
     ]
    }
   ],
   "source": [
    "new_generator = fib()\n",
    "for j, fib_val in enumerate(new_generator):\n",
    "    print (\"Fib num: \" + str(j) + \" fib values: \" + str(fib_val))"
   ]
  },
  {
   "cell_type": "markdown",
   "metadata": {},
   "source": [
    "Пересоздавая объект, можно сколько угодно раз генерировать заново последовательность. "
   ]
  },
  {
   "cell_type": "code",
   "execution_count": 15,
   "metadata": {},
   "outputs": [
    {
     "name": "stdout",
     "output_type": "stream",
     "text": [
      "Fib num: 0 fib values: 0\n",
      "Fib num: 1 fib values: 1\n",
      "Fib num: 2 fib values: 1\n",
      "Fib num: 3 fib values: 2\n",
      "Fib num: 0 fib values: 0\n",
      "Fib num: 1 fib values: 1\n",
      "Fib num: 2 fib values: 1\n",
      "Fib num: 3 fib values: 2\n",
      "Fib num: 0 fib values: 0\n",
      "Fib num: 1 fib values: 1\n",
      "Fib num: 2 fib values: 1\n",
      "Fib num: 3 fib values: 2\n"
     ]
    }
   ],
   "source": [
    "for i in range(0, 3):\n",
    "    new_generator = fib()\n",
    "    for j, fib_val in enumerate(new_generator):\n",
    "        print (\"Fib num: \" + str(j) + \" fib values: \" + str(fib_val))"
   ]
  },
  {
   "cell_type": "markdown",
   "metadata": {},
   "source": [
    "А вот так уже нельзя."
   ]
  },
  {
   "cell_type": "code",
   "execution_count": 16,
   "metadata": {},
   "outputs": [
    {
     "name": "stdout",
     "output_type": "stream",
     "text": [
      "Fib num: 0 fib values: 0\n",
      "Fib num: 1 fib values: 1\n",
      "Fib num: 2 fib values: 1\n",
      "Fib num: 3 fib values: 2\n"
     ]
    }
   ],
   "source": [
    "new_generator = fib()\n",
    "for i in range(0, 3):\n",
    "    for j, fib_val in enumerate(new_generator):\n",
    "        print (\"Fib num: \" + str(j) + \" fib values: \" + str(fib_val))"
   ]
  },
  {
   "cell_type": "markdown",
   "metadata": {},
   "source": [
    "Концепция крайне удобная для обучения  моделей $-$ у Вас есть некий источник данных, который Вам выдает их кусками, и Вам совершенно все равно откуда он их берет. Под ним может скрывать как массив в оперативной памяти, как файл на жестком диске, так и SQL база данных. Вы сами данные никуда не сохраняете, оперативную память экономите."
   ]
  },
  {
   "cell_type": "markdown",
   "metadata": {},
   "source": [
    "Если Вам понравилась идея с генераторами, то Вы можете реализовать свой, используя прототип batch_generator. В нем Вам нужно выдавать батчи признаков и ответов для каждой новой итерации спуска. Если не понравилась идея, то можете реализовывать SGD или mini-batch GD без генераторов."
   ]
  },
  {
   "cell_type": "code",
   "execution_count": 2,
   "metadata": {},
   "outputs": [],
   "source": [
    "def batch_generator(X, y, shuffle=True, batch_size=1):\n",
    "    \"\"\"\n",
    "    Гератор новых батчей для обучения\n",
    "    X          - матрица объекты-признаки\n",
    "    y_batch    - вектор ответов\n",
    "    shuffle    - нужно ли случайно перемешивать выборку\n",
    "    batch_size - размер батча ( 1 это SGD, > 1 mini-batch GD)\n",
    "    Генерирует подвыборку для итерации спуска (X_batch, y_batch)\n",
    "    \"\"\"\n",
    "    data_size = (X.shape[0])\n",
    "\n",
    "    if shuffle:\n",
    "        ind = np.random.permutation(np.arange(data_size))\n",
    "    else:\n",
    "        ind = np.array(data_size)\n",
    "        \n",
    "    for i in range(data_size // batch_size):\n",
    "        ind_batch = ind[batch_size * i: batch_size * (i + 1)]\n",
    "        X_batch = X[ind_batch]\n",
    "        y_batch = y[ind_batch]\n",
    "        yield (X_batch, y_batch)\n",
    "\n",
    "# Теперь можно сделать генератор по данным ()\n",
    "#  my_batch_generator = batch_generator(X, y, shuffle=True, batch_size=1):"
   ]
  },
  {
   "cell_type": "code",
   "execution_count": 3,
   "metadata": {},
   "outputs": [],
   "source": [
    "#%%pycodestyle\n",
    "\n",
    "def sigmoid(x):\n",
    "    \"\"\"\n",
    "    Вычисляем значение сигмоида.\n",
    "    X - выход линейной модели\n",
    "    \"\"\"\n",
    "    \n",
    "    sigm_value_x = 1 / (1 + np.exp(-x))\n",
    "    return sigm_value_x\n",
    "\n",
    "\n",
    "from sklearn.base import BaseEstimator, ClassifierMixin\n",
    "\n",
    "class MySGDClassifier(BaseEstimator, ClassifierMixin):\n",
    "    \n",
    "    def __init__(self, batch_generator, C=1, alpha=0.01, max_epoch=10, model_type='lin_reg', batch_size = 8):\n",
    "        \"\"\"\n",
    "        batch_generator -- функция генератор, которой будем создавать батчи\n",
    "        C - коэф. регуляризации\n",
    "        alpha - скорость спуска\n",
    "        max_epoch - максимальное количество эпох\n",
    "        model_type - тим модели, lin_reg или log_reg\n",
    "        \"\"\"\n",
    "        \n",
    "        self.C = C\n",
    "        self.Crev = 1 / C\n",
    "        self.alpha = alpha\n",
    "        self.max_epoch = max_epoch\n",
    "        self.batch_generator = batch_generator\n",
    "        self.errors_log = {'iter' : [], 'loss' : []}  \n",
    "        self.model_type = model_type\n",
    "        self.batch_size = batch_size\n",
    "        \n",
    "    def calc_loss(self, X_batch, y_batch):\n",
    "        \"\"\"\n",
    "        Считаем функцию потерь по батчу \n",
    "        X_batch - матрица объекты-признаки по батчу\n",
    "        y_batch - вектор ответов по батчу\n",
    "        Не забудте тип модели (линейная или логистическая регрессия)!\n",
    "        \"\"\"\n",
    "        if self.model_type == 'lin_reg':\n",
    "            loss = np.sum(np.square(y_batch - np.matmul(X_batch, self.weights))) / self.batch_size\n",
    "        \n",
    "        elif self.model_type == 'log_reg':\n",
    "            a_i = sigmoid(np.dot(X_batch, self.weights))\n",
    "            fir = y_batch * np.log(a_i) \n",
    "            sec = (np.ones(self.batch_size) - y_batch)*np.log(1 - a_i)\n",
    "            loss = -np.sum((fir + sec)) / self.batch_size\n",
    "        \n",
    "        return loss\n",
    "    \n",
    "    def calc_loss_grad(self, X_batch, y_batch):\n",
    "        \"\"\"\n",
    "        Считаем  градиент функции потерь по батчу (то что Вы вывели в задании 1)\n",
    "        X_batch - матрица объекты-признаки по батчу\n",
    "        y_batch - вектор ответов по батчу\n",
    "        Не забудте тип модели (линейная или логистическая регрессия)!\n",
    "        \"\"\"\n",
    "        regulariz = 2 * self.weights * self.Crev\n",
    "        \n",
    "        if self.model_type == 'lin_reg':\n",
    "            smy = np.dot(X_batch, self.weights) - y_batch\n",
    "            loss_grad = (2 / self.batch_size) * np.dot(smy, X_batch)\n",
    "        \n",
    "        elif self.model_type == 'log_reg':\n",
    "            smy = sigmoid(np.dot(X_batch, self.weights)) - y_batch\n",
    "            loss_grad = np.dot(smy, X_batch) / self.batch_size\n",
    "        \n",
    "        return loss_grad + regulariz\n",
    "    \n",
    "    def update_weights(self, new_grad):\n",
    "        \"\"\"\n",
    "        Обновляем вектор весов\n",
    "        new_grad - градиент по батчу\n",
    "        \"\"\"\n",
    "        \n",
    "        self.weights -= self.alpha * new_grad\n",
    "    \n",
    "    def fit(self, X, y):\n",
    "        '''\n",
    "        Обучение модели\n",
    "        X - матрица объекты-признаки\n",
    "        y - вектор ответов\n",
    "        '''\n",
    "        \n",
    "        # Нужно инициализровать случайно веса\n",
    "        self.n_ = y.shape[0]\n",
    "        X_ = np.c_[np.ones(self.n_), X]\n",
    "        self.weights = np.array([0.5]*(X_.shape[1]))\n",
    "        for n in range(0, self.max_epoch):\n",
    "            new_epoch_generator = self.batch_generator(X_, y, batch_size=self.batch_size)\n",
    "            for batch_num, new_batch in enumerate(new_epoch_generator):\n",
    "                X_batch = new_batch[0]\n",
    "                y_batch = new_batch[1]\n",
    "                batch_grad = self.calc_loss_grad(X_batch, y_batch)\n",
    "                batch_loss = self.calc_loss(X_batch, y_batch)\n",
    "                self.update_weights(batch_grad)\n",
    "                # Подумайте в каком месте стоит посчитать ошибку для отладки модели\n",
    "#                 batch_loss = self.calc_loss(X_batch, y_batch)\n",
    "                self.errors_log['iter'].append(batch_num)\n",
    "                self.errors_log['loss'].append(batch_loss)\n",
    "                \n",
    "        return self\n",
    "    \n",
    "    def predict(self, X):\n",
    "        '''\n",
    "        Предсказание класса\n",
    "        X - матрица объекты-признаки\n",
    "        Не забудте тип модели (линейная или логистическая регрессия)!\n",
    "        '''\n",
    "        # Желательно здесь использовать матричные операции между X и весами, например, numpy.dot\n",
    "        if(self.model_type=='lin_reg'):\n",
    "            cls = (self.predict_proba(X) > 0.5).astype(int)\n",
    "        if(self.model_type=='log_reg'):\n",
    "            cls = (self.predict_proba(X) > 0.5).astype(int)\n",
    "        return cls\n",
    "        \n",
    "    def predict_proba(self, X):\n",
    "        '''\n",
    "        Предсказание класса\n",
    "        X - матрица объекты-признаки\n",
    "        Не забудте тип модели (линейная или логистическая регрессия)!\n",
    "        '''\n",
    "        # Желательно здесь использовать матричные операции между X и весами, например, numpy.dot\n",
    "        X_ = np.hstack((np.ones((X.shape[0], 1)), X))\n",
    "        if self.model_type == 'lin_reg':\n",
    "            y_hat = np.dot(X_, self.weights)\n",
    "        if self.model_type == 'log_reg':\n",
    "            y_hat = sigmoid(np.dot(X_, self.weights))\n",
    "            \n",
    "        return y_hat"
   ]
  },
  {
   "cell_type": "markdown",
   "metadata": {},
   "source": [
    "Запустите обе регрессии на синтетических данных. \n",
    "\n",
    "\n",
    "Выведите полученные веса и нарисуйте разделяющую границу между классами (используйте только первых два веса для первых двух признаков X[:,0], X[:,1] для отображения в 2d пространство ).  "
   ]
  },
  {
   "cell_type": "code",
   "execution_count": 4,
   "metadata": {},
   "outputs": [
    {
     "name": "stdout",
     "output_type": "stream",
     "text": [
      "[ 0.01540943  0.12584273 -0.09404024]\n",
      "[-1.51546262  0.52331747 -0.25859575]\n"
     ]
    },
    {
     "data": {
      "image/png": "[encoded data removed]",
      "text/plain": [
       "<Figure size 432x288 with 1 Axes>"
      ]
     },
     "metadata": {
      "needs_background": "light"
     },
     "output_type": "display_data"
    }
   ],
   "source": [
    "def plot_decision_boundary(clf):\n",
    "    w = clf.weights.flatten()\n",
    "    x = np.linspace(-8, 6)\n",
    "    k = -w[1]/w[2]\n",
    "    y = k * x\n",
    "    plt.plot(x, y)\n",
    "    \n",
    "np.random.seed(0)\n",
    "\n",
    "C1 = np.array([[0., -0.8], [1.5, 0.8]])\n",
    "C2 = np.array([[1., -0.7], [2., 0.7]])\n",
    "gauss1 = np.dot(np.random.randn(200, 2) + np.array([5, 3]), C1)\n",
    "gauss2 = np.dot(np.random.randn(200, 2) + np.array([1.5, 0]), C2)\n",
    "\n",
    "X = np.vstack([gauss1, gauss2])\n",
    "y = np.r_[np.ones(200), np.zeros(200)]\n",
    "\n",
    "model = MySGDClassifier(batch_generator, model_type='lin_reg')\n",
    "model.fit(X, y)\n",
    "print(model.weights)\n",
    "plot_decision_boundary(model)\n",
    "\n",
    "model = MySGDClassifier(batch_generator, model_type='log_reg', C = 10000, alpha = 0.01, max_epoch=2000, batch_size=400)\n",
    "model.fit(X, y)\n",
    "print(model.weights)\n",
    "plot_decision_boundary(model)\n",
    "\n",
    "X = (X - np.mean(X, axis=0))\n",
    "\n",
    "plt.scatter(X[:,0], X[:,1], c=y)\n",
    "plt.show()"
   ]
  },
  {
   "cell_type": "code",
   "execution_count": 12,
   "metadata": {},
   "outputs": [
    {
     "name": "stdout",
     "output_type": "stream",
     "text": [
      "[-2.06795843  0.60867793 -0.42954525]\n"
     ]
    },
    {
     "data": {
      "text/plain": [
       "<matplotlib.collections.PathCollection at 0x7f2cd9d71fd0>"
      ]
     },
     "execution_count": 12,
     "metadata": {},
     "output_type": "execute_result"
    },
    {
     "data": {
      "image/png": "[encoded data removed]",
      "text/plain": [
       "<Figure size 432x288 with 1 Axes>"
      ]
     },
     "metadata": {
      "needs_background": "light"
     },
     "output_type": "display_data"
    }
   ],
   "source": [
    "#визуализация, используя все полученные веса\n",
    "\n",
    "def plot_decision_boundary(clf):\n",
    "    if hasattr(clf, 'weights'):\n",
    "        w0, w1, w2 = clf.weights[0], clf.weights[1], clf.weights[2]\n",
    "    elif hasattr(clf, 'coef_'):\n",
    "        w1, w2 = clf.coef_[0], reg.coef_[1]\n",
    "        w0 = clf.intercept_\n",
    "    x1 = np.linspace(-5,8,100)\n",
    "    x2 = (0.5 - w0 - w1*x1) / w2\n",
    "    if hasattr(clf, 'weights'):\n",
    "        plt.plot(x1, x2)\n",
    "    elif hasattr(clf, 'coef_'):\n",
    "        plt.plot(x1, x2, \"bs\")\n",
    "\n",
    "np.random.seed(0)\n",
    "\n",
    "C1 = np.array([[0., -0.8], [1.5, 0.8]])\n",
    "C2 = np.array([[1., -0.7], [2., 0.7]])\n",
    "gauss1 = np.dot(np.random.randn(200, 2) + np.array([5, 3]), C1)\n",
    "gauss2 = np.dot(np.random.randn(200, 2) + np.array([1.5, 0]), C2)\n",
    "\n",
    "X = np.vstack([gauss1, gauss2])\n",
    "y = np.r_[np.ones(200), np.zeros(200)]\n",
    "\n",
    "my_clf = MySGDClassifier(batch_generator, model_type='log_reg', C = 1000, alpha = 0.05, max_epoch=60, batch_size=40);\n",
    "my_clf.fit(X, y)\n",
    "print(my_clf.weights)\n",
    "\n",
    "# from sklearn.linear_model import LinearRegression\n",
    "# reg = LinearRegression().fit(X, y)\n",
    "# plot_decision_boundary(reg)\n",
    "\n",
    "my_lin_clf = MySGDClassifier(batch_generator, model_type='lin_reg', C = 1000, alpha = 0.05, max_epoch=150, batch_size=400);\n",
    "my_lin_clf.fit(X, y)\n",
    "\n",
    "plot_decision_boundary(my_lin_clf)\n",
    "plot_decision_boundary(my_clf)\n",
    "\n",
    "plt.scatter(X[:,0], X[:,1], c=y)"
   ]
  },
  {
   "cell_type": "markdown",
   "metadata": {},
   "source": [
    "Далее будем анализировать Ваш алгоритм. \n",
    "Для этих заданий используйте датасет ниже."
   ]
  },
  {
   "cell_type": "code",
   "execution_count": 42,
   "metadata": {},
   "outputs": [],
   "source": [
    "from sklearn.datasets import make_classification"
   ]
  },
  {
   "cell_type": "code",
   "execution_count": 43,
   "metadata": {},
   "outputs": [],
   "source": [
    "X, y = make_classification(n_samples=100000, n_features=10, \n",
    "                           n_informative=4, n_redundant=0, \n",
    "                           random_state=123, class_sep=1.0,\n",
    "                           n_clusters_per_class=1)"
   ]
  },
  {
   "cell_type": "code",
   "execution_count": 44,
   "metadata": {},
   "outputs": [
    {
     "name": "stdout",
     "output_type": "stream",
     "text": [
      "(100000, 10) (100000,)\n"
     ]
    }
   ],
   "source": [
    "print(X.shape, y.shape)"
   ]
  },
  {
   "cell_type": "markdown",
   "metadata": {},
   "source": [
    "Покажите сходимости обеих регрессией на этом датасете: изобразите график  функции потерь, усредненной по $N$ шагам градиентого спуска, для разных `alpha` (размеров шага). Разные `alpha` расположите на одном графике. \n",
    "\n",
    "$N$ можно брать 10, 50, 100 и т.д. "
   ]
  },
  {
   "cell_type": "code",
   "execution_count": 46,
   "metadata": {},
   "outputs": [
    {
     "data": {
      "text/plain": [
       "<matplotlib.legend.Legend at 0x7fde30f4c978>"
      ]
     },
     "execution_count": 46,
     "metadata": {},
     "output_type": "execute_result"
    },
    {
     "data": {
      "image/png": "[encoded data removed]",
      "text/plain": [
       "<Figure size 1296x720 with 2 Axes>"
      ]
     },
     "metadata": {
      "needs_background": "light"
     },
     "output_type": "display_data"
    }
   ],
   "source": [
    "N = 100\n",
    "data_size = y.shape[0]\n",
    "\n",
    "max_epoch = 150\n",
    "batch_size = 1000\n",
    "\n",
    "alphas = [0.0001, 0.001, 0.005, 0.01, 0.1]\n",
    "\n",
    "fig = plt.figure(figsize=(18, 10))\n",
    "ax1 = fig.add_subplot(121)\n",
    "ах2 = fig.add_subplot(122) \n",
    "\n",
    "for alpha in alphas:\n",
    "    my_clf = MySGDClassifier(batch_generator, model_type='lin_reg', C = 90, alpha = alpha, max_epoch=max_epoch, batch_size=batch_size);\n",
    "    my_clf.fit(X, y)\n",
    "    losses = np.sum(np.asarray(my_clf.errors_log['loss']).reshape(-1,N), axis=1)/N\n",
    "    steps = np.array(range(0, len(losses)))\n",
    "    ax1.plot(steps, losses, label='alpha = {}'.format(alpha))\n",
    "    \n",
    "ax1.legend()\n",
    "\n",
    "max_epoch = 60\n",
    "batch_size = 40\n",
    "\n",
    "for alpha in alphas:\n",
    "    my_clf = MySGDClassifier(batch_generator, model_type='log_reg', C = 1000, alpha = alpha, max_epoch=max_epoch, batch_size=batch_size);\n",
    "    my_clf.fit(X, y)\n",
    "    losses = np.sum(np.asarray(my_clf.errors_log['loss']).reshape(-1,N), axis=1)/N\n",
    "    steps = np.array(range(0, len(losses)))\n",
    "    ах2.plot(steps, losses, label='alpha = {}'.format(alpha))\n",
    "    \n",
    "ах2.legend()\n"
   ]
  },
  {
   "cell_type": "markdown",
   "metadata": {},
   "source": [
    "Что Вы можете сказать про сходимость метода при различных `alpha`? Какое значение стоит выбирать для лучшей сходимости?"
   ]
  },
  {
   "cell_type": "markdown",
   "metadata": {},
   "source": [
    "При слишком маленьких alpha метод может не сойтись за достаточно большое число итераций. \n",
    "Оптимальное alpha в пределах:  0.001-0.01;"
   ]
  },
  {
   "cell_type": "markdown",
   "metadata": {},
   "source": [
    "Изобразите график среднего значения весов для обеих регрессий в зависимости от коеф. регуляризации С из `np.logspace(3, -3, 10)` "
   ]
  },
  {
   "cell_type": "code",
   "execution_count": 15,
   "metadata": {},
   "outputs": [
    {
     "data": {
      "text/plain": [
       "<matplotlib.legend.Legend at 0x7f82e8a18cf8>"
      ]
     },
     "execution_count": 15,
     "metadata": {},
     "output_type": "execute_result"
    },
    {
     "data": {
      "image/png": "[encoded data removed]",
      "text/plain": [
       "<Figure size 1296x720 with 2 Axes>"
      ]
     },
     "metadata": {
      "needs_background": "light"
     },
     "output_type": "display_data"
    }
   ],
   "source": [
    "N = 100\n",
    "data_size = y.shape[0]\n",
    "alpha = 0.0001\n",
    "\n",
    "max_epoch = 10\n",
    "batch_size = 8\n",
    "\n",
    "Cs = np.logspace(3, -3, 10)\n",
    "# Cs = [100, 10, 1, 0.1, 0.01]\n",
    "\n",
    "fig = plt.figure(figsize=(18, 10))\n",
    "ax1 = fig.add_subplot(121)\n",
    "ax2 = fig.add_subplot(122) \n",
    "\n",
    "weights = []\n",
    "for C in Cs:\n",
    "    my_clf = MySGDClassifier(batch_generator, model_type='log_reg', C = C, alpha = alpha, max_epoch=max_epoch, batch_size=batch_size);\n",
    "    my_clf.fit(X, y)\n",
    "    weights.append(np.mean(my_clf.weights))\n",
    "ax2.plot(Cs, weights, label=my_clf.model_type)    \n",
    "ax2.legend()\n",
    "\n",
    "\n",
    "weights = []\n",
    "for C in Cs:\n",
    "    my_clf = MySGDClassifier(batch_generator, model_type='lin_reg', C = C, alpha = alpha, max_epoch=max_epoch, batch_size=batch_size);\n",
    "    my_clf.fit(X, y)\n",
    "    my_clf.fit(X, y)\n",
    "    weights.append(np.mean(my_clf.weights))\n",
    "ax1.plot(Cs, weights, label=my_clf.model_type)    \n",
    "ax1.legend()"
   ]
  },
  {
   "cell_type": "markdown",
   "metadata": {},
   "source": [
    "Довольны ли Вы, насколько сильно уменьшились Ваши веса? \n",
    "\n",
    "Видно, что в среднем веса по модулю достаточно сильно уменьшаются при увеличении C."
   ]
  },
  {
   "cell_type": "markdown",
   "metadata": {},
   "source": [
    "# Боевое применение (3  балла)"
   ]
  },
  {
   "cell_type": "markdown",
   "metadata": {},
   "source": [
    "Давайте применим модель на итоговом проекте! Датасет сделаем точно таким же образом, как было показано в project_overview-2.ipynb\n",
    "\n",
    "Применим обе регрессии, подберем для них параметры и сравним качество. Может быть Вы еще одновременно с решением домашней работы подрастете на лидерборде!"
   ]
  },
  {
   "cell_type": "code",
   "execution_count": 48,
   "metadata": {},
   "outputs": [
    {
     "name": "stdout",
     "output_type": "stream",
     "text": [
      "28026\n"
     ]
    }
   ],
   "source": [
    "doc_to_title = {}\n",
    "with open('docs_titles.tsv') as f:\n",
    "    for num_line, line in enumerate(f):\n",
    "        if num_line == 0:\n",
    "            continue\n",
    "        data = line.strip().split('\\t', 1)\n",
    "        doc_id = int(data[0])\n",
    "        if len(data) == 1:\n",
    "            title = ''\n",
    "        else:\n",
    "            title = data[1]\n",
    "        doc_to_title[doc_id] = title\n",
    "print (len(doc_to_title))\n"
   ]
  },
  {
   "cell_type": "code",
   "execution_count": 49,
   "metadata": {},
   "outputs": [],
   "source": [
    "import pandas as pd\n",
    "train_data = pd.read_csv('train_groups.csv')\n",
    "test_data = pd.read_csv('test_groups.csv')\n",
    "\n",
    "traingroups_titledata = {}\n",
    "for i in range(len(train_data)):\n",
    "    new_doc = train_data.iloc[i]\n",
    "    doc_group = new_doc['group_id']\n",
    "    doc_id = new_doc['doc_id']\n",
    "    target = new_doc['target']\n",
    "    title = doc_to_title[doc_id]\n",
    "    if doc_group not in traingroups_titledata:\n",
    "        traingroups_titledata[doc_group] = []\n",
    "    traingroups_titledata[doc_group].append((doc_id, title, target))\n",
    "    \n",
    "testgroups_titledata = {}\n",
    "for i in range(len(test_data)):\n",
    "    new_doc = test_data.iloc[i]\n",
    "    doc_group = new_doc['group_id']\n",
    "    doc_id = new_doc['doc_id']\n",
    "    title = doc_to_title[doc_id]\n",
    "    if doc_group not in testgroups_titledata:\n",
    "        testgroups_titledata[doc_group] = []\n",
    "    testgroups_titledata[doc_group].append((doc_id, title))"
   ]
  },
  {
   "cell_type": "code",
   "execution_count": 51,
   "metadata": {},
   "outputs": [],
   "source": [
    "# traingroups_titledata[20][0]"
   ]
  },
  {
   "cell_type": "code",
   "execution_count": 52,
   "metadata": {},
   "outputs": [
    {
     "name": "stdout",
     "output_type": "stream",
     "text": [
      "(11690, 15) (11690,) (11690,)\n"
     ]
    }
   ],
   "source": [
    "import numpy as np\n",
    "y_train = []\n",
    "X_train = []\n",
    "groups_train = []\n",
    "for new_group in traingroups_titledata:\n",
    "    docs = traingroups_titledata[new_group]\n",
    "    for k, (doc_id, title, target_id) in enumerate(docs):\n",
    "        y_train.append(target_id)\n",
    "        groups_train.append(new_group)\n",
    "        all_dist = []\n",
    "        words = set(title.strip().split())\n",
    "        for j in range(0, len(docs)):\n",
    "            if k == j:\n",
    "                continue\n",
    "            doc_id_j, title_j, target_j = docs[j]\n",
    "            words_j = set(title_j.strip().split())\n",
    "            all_dist.append(len(words.intersection(words_j)))\n",
    "        X_train.append(sorted(all_dist, reverse=True)[0:15]    )\n",
    "X_train = np.array(X_train)\n",
    "y_train = np.array(y_train)\n",
    "groups_train = np.array(groups_train)\n",
    "print (X_train.shape, y_train.shape, groups_train.shape)"
   ]
  },
  {
   "cell_type": "code",
   "execution_count": 53,
   "metadata": {},
   "outputs": [
    {
     "name": "stdout",
     "output_type": "stream",
     "text": [
      "(16627, 15) (16627,)\n"
     ]
    }
   ],
   "source": [
    "X_test = []\n",
    "groups_test = []\n",
    "for new_group in testgroups_titledata:\n",
    "    docs = testgroups_titledata[new_group]\n",
    "    for k, (doc_id, title) in enumerate(docs):\n",
    "        groups_test.append(new_group)\n",
    "        all_dist = []\n",
    "        words = set(title.strip().split())\n",
    "        for j in range(0, len(docs)):\n",
    "            if k == j:\n",
    "                continue\n",
    "            doc_id_j, title_j = docs[j]\n",
    "            words_j = set(title_j.strip().split())\n",
    "            all_dist.append(len(words.intersection(words_j)))\n",
    "        X_test.append(sorted(all_dist, reverse=True)[0:15])\n",
    "X_test = np.array(X_test)\n",
    "groups_test = np.array(groups_test)\n",
    "print(X_test.shape, groups_test.shape)"
   ]
  },
  {
   "cell_type": "code",
   "execution_count": 19,
   "metadata": {},
   "outputs": [
    {
     "data": {
      "text/plain": [
       "array([130, 130, 130, ..., 309, 309, 309])"
      ]
     },
     "execution_count": 19,
     "metadata": {},
     "output_type": "execute_result"
    }
   ],
   "source": [
    "# groups_test"
   ]
  },
  {
   "cell_type": "markdown",
   "metadata": {},
   "source": [
    "Подберите размер батча для обучения. Линейная модель не должна учиться дольше нескольких минут. \n",
    "\n",
    "Не забывайте использовать скейлер!"
   ]
  },
  {
   "cell_type": "code",
   "execution_count": 54,
   "metadata": {},
   "outputs": [],
   "source": [
    "from sklearn.metrics import f1_score\n",
    "from sklearn.linear_model import LinearRegression\n",
    "from sklearn.preprocessing import StandardScaler"
   ]
  },
  {
   "cell_type": "code",
   "execution_count": 57,
   "metadata": {
    "scrolled": true
   },
   "outputs": [
    {
     "name": "stderr",
     "output_type": "stream",
     "text": [
      "/home/waff/anaconda3/lib/python3.7/site-packages/sklearn/utils/validation.py:595: DataConversionWarning: Data with input dtype int64 was converted to float64 by StandardScaler.\n",
      "  warnings.warn(msg, DataConversionWarning)\n",
      "/home/waff/anaconda3/lib/python3.7/site-packages/sklearn/utils/validation.py:595: DataConversionWarning: Data with input dtype int64 was converted to float64 by StandardScaler.\n",
      "  warnings.warn(msg, DataConversionWarning)\n",
      "/home/waff/anaconda3/lib/python3.7/site-packages/sklearn/utils/validation.py:595: DataConversionWarning: Data with input dtype int64 was converted to float64 by StandardScaler.\n",
      "  warnings.warn(msg, DataConversionWarning)\n"
     ]
    }
   ],
   "source": [
    "scaler = StandardScaler()\n",
    "data = np.concatenate((X_train, X_test), axis = 0)\n",
    "scaler.fit(data)\n",
    "X_train_scaled = scaler.transform(X_train)\n",
    "X_test_scaled = scaler.transform(X_test)"
   ]
  },
  {
   "cell_type": "code",
   "execution_count": 65,
   "metadata": {},
   "outputs": [
    {
     "name": "stdout",
     "output_type": "stream",
     "text": [
      "CPU times: user 1.38 s, sys: 0 ns, total: 1.38 s\n",
      "Wall time: 860 ms\n"
     ]
    },
    {
     "data": {
      "text/plain": [
       "MySGDClassifier(C=90, alpha=0.05,\n",
       "        batch_generator=<function batch_generator at 0x7fde34daf730>,\n",
       "        batch_size=1000, max_epoch=150, model_type='lin_reg')"
      ]
     },
     "execution_count": 65,
     "metadata": {},
     "output_type": "execute_result"
    }
   ],
   "source": [
    "C = 90\n",
    "alpha = 0.05\n",
    "max_epoch = 150\n",
    "batch_size = 1000\n",
    "my_clf = MySGDClassifier(batch_generator, model_type='lin_reg', C = C, alpha = alpha, max_epoch=max_epoch, batch_size=batch_size)\n",
    "%time my_clf.fit(X_train_scaled, y_train)"
   ]
  },
  {
   "cell_type": "code",
   "execution_count": 67,
   "metadata": {},
   "outputs": [
    {
     "name": "stdout",
     "output_type": "stream",
     "text": [
      "CPU times: user 2.8 s, sys: 16 ms, total: 2.81 s\n",
      "Wall time: 2.84 s\n"
     ]
    },
    {
     "data": {
      "text/plain": [
       "MySGDClassifier(C=1000, alpha=0.05,\n",
       "        batch_generator=<function batch_generator at 0x7fde34daf730>,\n",
       "        batch_size=40, max_epoch=60, model_type='log_reg')"
      ]
     },
     "execution_count": 67,
     "metadata": {},
     "output_type": "execute_result"
    }
   ],
   "source": [
    "C = 1000\n",
    "alpha = 0.05\n",
    "max_epoch = 60\n",
    "batch_size = 40\n",
    "my_clf = MySGDClassifier(batch_generator, model_type='log_reg', C = C, alpha = alpha, max_epoch=max_epoch, batch_size=batch_size)\n",
    "%time my_clf.fit(X_train_scaled, y_train)"
   ]
  },
  {
   "cell_type": "markdown",
   "metadata": {},
   "source": [
    "Разбейте данные на обучение и валидацию. Подберите параметры C, alpha, max_epoch, model_type на валидации (Вы же помните, как правильно в этой задаче делать валидацию?)"
   ]
  },
  {
   "cell_type": "code",
   "execution_count": 70,
   "metadata": {},
   "outputs": [
    {
     "name": "stdout",
     "output_type": "stream",
     "text": [
      "0 (array([   0,    1,    2, ..., 1067, 1068, 1069]),) 1070\n",
      "1 (array([1070, 1071, 1072, ..., 2275, 2276, 2277]),) 1208\n",
      "2 (array([2278, 2279, 2280, ..., 3523, 3524, 3525]),) 1248\n",
      "3 (array([3526, 3527, 3528, ..., 4686, 4687, 4688]),) 1163\n",
      "4 (array([4689, 4690, 4691, ..., 5841, 5842, 5843]),) 1155\n",
      "5 (array([5844, 5845, 5846, ..., 7060, 7061, 7062]),) 1219\n",
      "6 (array([7063, 7064, 7065, ..., 8118, 8119, 8120]),) 1058\n",
      "7 (array([8121, 8122, 8123, ..., 9410, 9411, 9412]),) 1292\n",
      "8 (array([ 9413,  9414,  9415, ..., 10649, 10650, 10651]),) 1239\n",
      "9 (array([10652, 10653, 10654, ..., 11687, 11688, 11689]),) 1038\n"
     ]
    }
   ],
   "source": [
    "# groups_train\n",
    "valid_sets = []\n",
    "for i in range(1,11):\n",
    "    array = np.where((13*(i-1) < groups_train) & (groups_train <= 13*(i)))\n",
    "    valid_sets.append(set(array[0]))\n",
    "    print(i-1, array, len(array[0]))"
   ]
  },
  {
   "cell_type": "code",
   "execution_count": 30,
   "metadata": {},
   "outputs": [
    {
     "name": "stdout",
     "output_type": "stream",
     "text": [
      "score \t \t   alpha C  e batch_size\n",
      "aplha == 0.001\n",
      "C == 50\n",
      "C == 500\n",
      "C == 5000\n",
      "aplha == 0.01\n",
      "C == 50\n",
      "C == 500\n",
      "C == 5000\n",
      "aplha == 0.05\n",
      "C == 50\n",
      "C == 500\n",
      "C == 5000\n"
     ]
    }
   ],
   "source": [
    "alphas = [0.001, 0.01, 0.05]\n",
    "Cs = [50, 500, 5000]\n",
    "max_epochs = [10, 20, 50]\n",
    "bs = [1, 8, 10, 50, 500, 1000, 5000]\n",
    "\n",
    "scores = []\n",
    "# print('score', '\\t', '\\t', '  alpha', 'C', ' e', 'batch_size')\n",
    "for alpha in alphas:\n",
    "    print ('aplha ==', alpha)\n",
    "    for C in Cs:\n",
    "        print ('C ==', C)\n",
    "        for max_epoch in max_epochs:\n",
    "            for batch_size in bs:\n",
    "                top_clf = MySGDClassifier(batch_generator,\n",
    "                                          model_type='log_reg',\n",
    "                                          C = C,\n",
    "                                          alpha = alpha,\n",
    "                                          max_epoch=max_epoch,\n",
    "                                          batch_size=batch_size)\n",
    "                top_clf.fit(X_new_train, y_new_train)\n",
    "                y_pred = (top_clf.predict_proba(X_new_test) > 0.256).astype(int)\n",
    "                score = f1_score(y_new_test, y_pred)\n",
    "                scores.append((score, alpha, C, max_epoch, batch_size))\n"
   ]
  },
  {
   "cell_type": "code",
   "execution_count": null,
   "metadata": {},
   "outputs": [],
   "source": [
    "scores = np.array(scores)\n",
    "scores[np.argmax(scores[:,0])]\n",
    "#alpha C     me   b_size\n",
    "#0.05  500   20   1        #for log \n",
    "#0.001 500   10   1000     #for lin"
   ]
  },
  {
   "cell_type": "code",
   "execution_count": 56,
   "metadata": {},
   "outputs": [
    {
     "name": "stdout",
     "output_type": "stream",
     "text": [
      "0.27 0.5543438333168756\n",
      "0.27125 0.5555563265447733\n",
      "0.2725 0.5541213102503424\n",
      "0.27375000000000005 0.550761208343323\n",
      "0.275 0.550761208343323\n"
     ]
    }
   ],
   "source": [
    "C = 1000\n",
    "alpha = 0.005\n",
    "max_epoch = 60\n",
    "batch_size = 40\n",
    "\n",
    "g = np.linspace(0.27, 0.275, 5)\n",
    "means = [0]\n",
    "\n",
    "for gi in g:\n",
    "    scores=[]\n",
    "    for i in range(10):\n",
    "        test_ind = 2\n",
    "        X_new_train = []\n",
    "        y_new_train = []\n",
    "        X_new_test = []\n",
    "        y_new_test = []\n",
    "        for ind, x in enumerate(X_train_scaled):\n",
    "            if ind in valid_sets[test_ind]:\n",
    "                X_new_test.append(x)\n",
    "                y_new_test.append(y_train[ind])\n",
    "            else:\n",
    "                X_new_train.append(x)\n",
    "                y_new_train.append(y_train[ind])\n",
    "        X_new_train = np.array(X_new_train)\n",
    "        y_new_train = np.array(y_new_train)\n",
    "        X_new_test = np.array(X_new_test)\n",
    "        y_new_test = np.array(y_new_test)\n",
    "\n",
    "        my_clf = MySGDClassifier(batch_generator,\n",
    "                                          model_type='log_reg',\n",
    "                                          C = C,\n",
    "                                          alpha = alpha,\n",
    "                                          max_epoch=max_epoch,\n",
    "                                          batch_size=batch_size).fit(X_new_train, y_new_train)\n",
    "        y_new_pred = (my_clf.predict_proba(X_new_test)>gi).astype(int)\n",
    "        scores.append(f1_score(y_new_test, y_new_pred))\n",
    "\n",
    "    scores = np.array(scores)\n",
    "    means.append(np.mean(scores))\n",
    "    print(gi, means[-1])"
   ]
  },
  {
   "cell_type": "code",
   "execution_count": 30,
   "metadata": {},
   "outputs": [
    {
     "name": "stdout",
     "output_type": "stream",
     "text": [
      "0.2 0.5376829333650581\n",
      "0.2111111111111111 0.53919187154151\n",
      "0.22222222222222224 0.5440289951698782\n",
      "0.23333333333333334 0.5427847270896128\n",
      "0.24444444444444444 0.5448207188670962\n",
      "0.25555555555555554 0.545634997973114\n",
      "0.26666666666666666 0.5481789291758309\n",
      "0.2777777777777778 0.5480887490655507\n",
      "0.28888888888888886 0.5393317053215154\n",
      "0.3 0.538796505604796\n"
     ]
    }
   ],
   "source": [
    "for i,j in zip(g, means):\n",
    "    print(i,j)"
   ]
  },
  {
   "cell_type": "code",
   "execution_count": 13,
   "metadata": {},
   "outputs": [],
   "source": [
    "# from sklearn.linear_model import LogisticRegression\n",
    "# nums = list(np.arange(11691, 28318))"
   ]
  },
  {
   "cell_type": "code",
   "execution_count": 16,
   "metadata": {},
   "outputs": [],
   "source": [
    "# g = np.linspace(0.2, 0.5, 10)\n",
    "# means = []\n",
    "\n",
    "# for gi in g:\n",
    "#     scores=[]\n",
    "#     for i in range(10):\n",
    "#         test_ind = 2\n",
    "#         X_new_train = []\n",
    "#         y_new_train = []\n",
    "#         X_new_test = []\n",
    "#         y_new_test = []\n",
    "#         for ind, x in enumerate(X_train_scaled):\n",
    "#             if ind in valid_sets[test_ind]:\n",
    "#                 X_new_test.append(x)\n",
    "#                 y_new_test.append(y_train[ind])\n",
    "#             else:\n",
    "#                 X_new_train.append(x)\n",
    "#                 y_new_train.append(y_train[ind])\n",
    "#         X_new_train = np.array(X_new_train)\n",
    "#         y_new_train = np.array(y_new_train)\n",
    "#         X_new_test = np.array(X_new_test)\n",
    "#         y_new_test = np.array(y_new_test)\n",
    "\n",
    "#         clf = LogisticRegression(max_iter = 100, random_state=0, solver = 'lbfgs').fit(X_new_train, y_new_train)\n",
    "#         y_new_pred = (clf.predict_proba(X_new_test)>gi).astype(int)[:,1]\n",
    "#         scores.append(f1_score(y_new_test, y_new_pred))\n",
    "\n",
    "#     scores = np.array(scores)\n",
    "#     means.append(np.mean(scores))"
   ]
  },
  {
   "cell_type": "code",
   "execution_count": 124,
   "metadata": {},
   "outputs": [
    {
     "name": "stdout",
     "output_type": "stream",
     "text": [
      "0.24 0.5369928400954652\n",
      "0.24157894736842103 0.5376344086021504\n",
      "0.2431578947368421 0.5384615384615385\n",
      "0.24473684210526314 0.537712895377129\n",
      "0.2463157894736842 0.5436654366543665\n",
      "0.24789473684210525 0.5440993788819878\n",
      "0.24947368421052632 0.5440993788819878\n",
      "0.25105263157894736 0.5440993788819878\n",
      "0.25263157894736843 0.5443196004993759\n",
      "0.2542105263157895 0.5463659147869675\n",
      "0.2557894736842105 0.5498108448928122\n",
      "0.2573684210526316 0.5498108448928122\n",
      "0.25894736842105265 0.549367088607595\n",
      "0.2605263157894737 0.5470737913486003\n",
      "0.26210526315789473 0.5470737913486003\n",
      "0.2636842105263158 0.5452229299363058\n",
      "0.26526315789473687 0.5452229299363058\n",
      "0.26684210526315794 0.5433673469387754\n",
      "0.26842105263157895 0.5410256410256411\n",
      "0.27 0.5391527599486521\n"
     ]
    }
   ],
   "source": [
    "# for i,j in zip(g, means):\n",
    "#     print(i,j)"
   ]
  },
  {
   "cell_type": "code",
   "execution_count": 57,
   "metadata": {},
   "outputs": [],
   "source": [
    "C = 1000\n",
    "alpha = 0.005\n",
    "max_epoch = 60\n",
    "batch_size = 40\n",
    "my_best_clf = my_clf = MySGDClassifier(batch_generator,\n",
    "                                          model_type='log_reg',\n",
    "                                          C = C,\n",
    "                                          alpha = alpha,\n",
    "                                          max_epoch=max_epoch,\n",
    "                                          batch_size=batch_size).fit(X_train_scaled, y_train)\n",
    "y_pred = (my_best_clf.predict_proba(X_test_scaled) > 0.27125).astype(int)"
   ]
  },
  {
   "cell_type": "code",
   "execution_count": 61,
   "metadata": {},
   "outputs": [],
   "source": [
    "nums = list(np.arange(11691, 28318))\n",
    "with open('sub_log_1000_0.005_60_40_0.27125.csv', 'a') as f:\n",
    "    print(\"pair_id,target\", file=f)\n",
    "    for pair, y in zip(nums, y_pred):\n",
    "        print(\"{0},{1}\".format(pair, y), file=f)"
   ]
  },
  {
   "cell_type": "markdown",
   "metadata": {},
   "source": [
    "(Score на Kaggle 0.60165 > score первого бейзлайна == 0.55255)"
   ]
  },
  {
   "cell_type": "markdown",
   "metadata": {},
   "source": [
    "С лучшими параметрами на валидации сделайте предсказание на тестовом множестве, отправьте его на проверку на платформу kaggle. Убедитесь, что Вы смогли побить public score первого бейзлайна. Если да, то Вы молодец!"
   ]
  },
  {
   "cell_type": "markdown",
   "metadata": {},
   "source": [
    "# Контрольные вопросы\n",
    "Постарайтесь максимально развернуто и честно ответить на вопросы. Они охватывают тему линейных моделей и скорее нужны преподавателям, чтобы понимать, что именно Вы усвоили плохо. Надеюсь, они подскажут, что именно в теме Вы не понимаете или наоборот порадают, что Вы все знаете ^_^"
   ]
  },
  {
   "cell_type": "markdown",
   "metadata": {},
   "source": [
    "* Опишите основные, на Ваш взгляд,  отличия логистической регрессии от линейной регрессии. Почему, на ваш взгляд, задачу классификации решают логистической, а не линейной регрессией?"
   ]
  },
  {
   "cell_type": "markdown",
   "metadata": {},
   "source": [
    "***Ваше ответ здесь***\n",
    "Отличия в том, что линейная регрессия дает непрерывный результат, он может иметь любое значение, а логистическая предсказывает \"вероятность\" принадлежности к классу. Поэтому и задачу классификации решают ей."
   ]
  },
  {
   "cell_type": "markdown",
   "metadata": {},
   "source": [
    "* Как Вы думаете, для каких типов задач (объем данных, число признаков, типы признаков) стоит отдавать предпочтение линейным моделям?"
   ]
  },
  {
   "cell_type": "markdown",
   "metadata": {},
   "source": [
    "***Ваше ответ здесь*** Ограничение на типы - они не должны быть категориальными. Иначе их придется преобразовывать. На число признаков и объем данных особых ограничений нет, потому что с помощью таких методов как стохастич. или мини-батч градиентный спуск можно довольно быстро найти приемлемое решение. И необходимо помнить, что линейные модели учитывают только линейные зависимости от признаков."
   ]
  },
  {
   "cell_type": "markdown",
   "metadata": {},
   "source": [
    "* Пусть на обучении мы имеем выборку размера $N$, число признаков $D$. Чему равна алгоритмическая сложность одного шага градиентного спуска? Cтохастического градиентного спуска?  Сложность предсказания на одном объекте?"
   ]
  },
  {
   "cell_type": "markdown",
   "metadata": {},
   "source": [
    "***Ваше ответ здесь*** Сложность шага градиентного спуска $O(N\\cdot D)$, стохастич. град. спуска $O(D) $ и предсказания на одном объекте $O(D)$.\n"
   ]
  },
  {
   "cell_type": "markdown",
   "metadata": {},
   "source": [
    "* В чем преимущества стохастического градиентного спуска (в том числе мини-батч) над обычным градиентным спуском? В чем его недостатки? Рассмотрите несколько аспектов $-$ скорость сходимости, необходимость загрузки всех данных в оперативную память, сложность вычисления одного шага."
   ]
  },
  {
   "cell_type": "markdown",
   "metadata": {},
   "source": [
    "***Ваше ответ здесь*** \n",
    "\n",
    "\"+\"\n",
    "1) сложность вычисления одного шага меньше, и зависят от размера батча\n",
    "2) не нужно загружать все данные в память, нужно ограничиваться размерами батча. Хорошо подходит для онлайн-обучения.\n",
    "3) количество шагов для сходимости нужно больше, но засчет маленькой сложности вычисления каждого шага может сходиться быстрее, чем метод градиентного спуска.\n",
    "4) может выскочить из локального минимума и сойтись к глобальному\n",
    "\n",
    "\"-\"\n",
    "1) требует много шагов для сходимости\n",
    "2) на каждом шаге не ведет четко к локальному минимуму"
   ]
  },
  {
   "cell_type": "markdown",
   "metadata": {},
   "source": [
    "* Как Вы думаете, при обучении линейной модели с помощью SGD, ошибку на новом объекте стоит считать до итерации спуска на этом объекте или после? Почему Вы так думаете? Возможно, Вам будет интересно ознакомиться с http://hunch.net/~jl/projects/prediction_bounds/thesis/mathml/thesisse44.xml"
   ]
  },
  {
   "cell_type": "markdown",
   "metadata": {},
   "source": [
    "***Ваше ответ здесь*** До итерации, потому что, например, мы можем сразу \"угадать\" приемлемое решение. Или посмотреть, как \"далеко\" мы от него находимся."
   ]
  },
  {
   "cell_type": "markdown",
   "metadata": {},
   "source": [
    "* Как Вы думаете, во времена такого бума нейронных сетей, остаются ли популярными линейные модели, или это уже пережиток прошлого? Почему Вы так думаете?"
   ]
  },
  {
   "cell_type": "markdown",
   "metadata": {},
   "source": [
    "***Ваше ответ здесь*** Остаются, в первую очередь потому, что результат легко интерпретируем. Поэтому его любят банки, медицина и тд.."
   ]
  },
  {
   "cell_type": "markdown",
   "metadata": {},
   "source": [
    "* Какие аспекты обучения линейных моделей Вам показались непонятными? Какое место стоит дополнительно объяснить?"
   ]
  },
  {
   "cell_type": "markdown",
   "metadata": {},
   "source": [
    "***Ваше ответ здесь*** Для меня оказалось сложным матрично-векторное дифференцирование. У меня с этим проблемы и видимо их надо срочно решать. Был бы рад, если б этому уделилось больше внимания.\n",
    "Не сразу пришло осознание того, что на кросс-валидации надо подобрать порог, помимо коэффициентов. Нигде в заданиях (и в презентации, вроде, тоже) это явно не указано, на понимание этого ушло много времени."
   ]
  },
  {
   "cell_type": "markdown",
   "metadata": {},
   "source": [
    "Здесь Вы можете оставить отзыв о этой домашней работе или о всем курсе.   "
   ]
  },
  {
   "cell_type": "markdown",
   "metadata": {},
   "source": [
    "*** ВАШ ОТЗЫВ ЗДЕСЬ***"
   ]
  },
  {
   "cell_type": "code",
   "execution_count": null,
   "metadata": {
    "collapsed": true
   },
   "outputs": [],
   "source": []
  },
  {
   "cell_type": "code",
   "execution_count": null,
   "metadata": {
    "collapsed": true
   },
   "outputs": [],
   "source": []
  }
 ],
 "metadata": {
  "anaconda-cloud": {},
  "kernelspec": {
   "display_name": "Python 3",
   "language": "python",
   "name": "python3"
  },
  "language_info": {
   "codemirror_mode": {
    "name": "ipython",
    "version": 3
   },
   "file_extension": ".py",
   "mimetype": "text/x-python",
   "name": "python",
   "nbconvert_exporter": "python",
   "pygments_lexer": "ipython3",
   "version": "3.7.1"
  },
  "nav_menu": {},
  "toc": {
   "colors": {
    "hover_highlight": "#DAA520",
    "navigate_num": "#000000",
    "navigate_text": "#333333",
    "running_highlight": "#FF0000",
    "selected_highlight": "#FFD700",
    "sidebar_border": "#EEEEEE",
    "wrapper_background": "#FFFFFF"
   },
   "moveMenuLeft": true,
   "nav_menu": {
    "height": "402px",
    "width": "253px"
   },
   "navigate_menu": true,
   "number_sections": false,
   "sideBar": true,
   "threshold": 4,
   "toc_cell": false,
   "toc_section_display": "block",
   "toc_window_display": true,
   "widenNotebook": false
  }
 },
 "nbformat": 4,
 "nbformat_minor": 2
}
