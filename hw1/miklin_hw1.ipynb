{
 "cells": [
  {
   "cell_type": "markdown",
   "metadata": {},
   "source": [
    "**Общая информация**\n",
    "\n",
    "**Срок сдачи:** 20 марта 2019, 06:00 <br\\>\n",
    "**Штраф за опоздание:** -1 балл после 06:00 20 марта, -2 балла после 06:00 27 марта, -3 балла после 06:00 3 апреля\n",
    "-4 балла после 06:00 10 апреля\n",
    "\n",
    "При отправлении ДЗ указывайте фамилию в названии файла\n",
    "Присылать ДЗ необходимо в виде ссылки на свой github репозиторий в slack @alkhamush\n",
    "\n",
    "Необходимо в slack скинуть ссылку в личный чат @alkhamush\n",
    "Пример ссылки:\n",
    "https://github.com/stroykova/spheremailru/stroykova_hw1.ipynb \n",
    "\n",
    "\n",
    "Используйте данный Ipython Notebook при оформлении домашнего задания."
   ]
  },
  {
   "cell_type": "markdown",
   "metadata": {},
   "source": [
    "##### Задание 1 (2 баллов)\n",
    "Реализовать KNN в классе MyKNeighborsClassifier (обязательное условие: точность не ниже sklearn реализации)\n",
    "Разберитесь самостоятельно, какая мера расстояния используется в KNeighborsClassifier дефолтно и реализуйте свой алгоритм именно с этой мерой. Самостоятельно разберитесь, как считается score из KNeighborsClassifier и реализуйте аналог в своём классе. Score не должен уступать значению KNN из sklearn\n",
    "\n",
    "###### Задание 2 (2 балла)\n",
    "Добиться скорости работы на fit,  predict и predict_proba сравнимой со sklearn для iris и mnist\n",
    "Для этого используем numpy\n",
    "\n",
    "###### Задание 3 (2 балла)\n",
    "Для iris найдите такой параметр n_neighbors, при котором выдаётся наилучший score. Нарисуйте график зависимости score от n_neighbors\n",
    "\n",
    "###### Задание 4 (3 балла)\n",
    "Добавить algorithm='kd_tree' в реализацию KNN (использовать KDTree из sklearn.neighbors). Добиться скорости работы на fit,  predict и predict_proba сравнимой со sklearn для iris и mnist\n",
    "Для этого используем numpy. Score не должен уступать значению KNN из sklearn\n",
    "\n",
    "###### Задание 5 (1 балла)\n",
    "Описать для чего нужны следующие библиотеки/классы/функции (список будет ниже)\n",
    "\n",
    "**Штрафные баллы:**\n",
    "\n",
    "1. Невыполнение PEP8 -0.5 баллов\n",
    "2. Отсутствие фамилии в имени скрипта (скрипт должен называться по аналогии со stroykova_hw1.ipynb) -0.5 баллов\n",
    "3. Все строчки должны быть выполнены. Нужно, чтобы output команды можно было увидеть уже в git'е. В противном случае -0.5 баллов\n",
    "4. При оформлении ДЗ нужно пользоваться данным файлом в качестве шаблона. Не нужно удалять и видоизменять структуру кода и текст. В противном случае -0.5 баллов\n"
   ]
  },
  {
   "cell_type": "code",
   "execution_count": 1,
   "metadata": {},
   "outputs": [],
   "source": [
    "import numpy as np\n",
    "import matplotlib.pyplot as plt\n",
    "\n",
    "import seaborn as sns\n",
    "from sklearn import datasets\n",
    "from sklearn import metrics\n",
    "from sklearn.base import ClassifierMixin\n",
    "from sklearn.datasets import fetch_mldata, fetch_openml\n",
    "from sklearn.neighbors.base import NeighborsBase, KNeighborsMixin, SupervisedIntegerMixin \n",
    "from sklearn.model_selection import train_test_split\n",
    "from sklearn.neighbors import KNeighborsClassifier\n",
    "from sklearn.neighbors import KDTree\n",
    "from scipy import stats\n",
    "import warnings\n",
    "warnings.filterwarnings('ignore')\n",
    "%load_ext pycodestyle_magic"
   ]
  },
  {
   "cell_type": "code",
   "execution_count": 150,
   "metadata": {},
   "outputs": [],
   "source": [
    "# %%pycodestyle\n",
    "\n",
    "\n",
    "class MyKNeighborsClassifier(NeighborsBase, KNeighborsMixin,\n",
    "                             SupervisedIntegerMixin, ClassifierMixin):\n",
    "    def _n_classes(self, X):\n",
    "        res = np.zeros(X.shape[0])\n",
    "        distances = metrics.pairwise_distances(X, self._X)\n",
    "        sorted_indices = np.argpartition(distances, self.n_neighbors, axis=1)\n",
    "        n_sorted_indices = sorted_indices[:, :self.n_neighbors]\n",
    "        n_classes = self._y[n_sorted_indices]\n",
    "        return n_classes\n",
    "\n",
    "    def __init__(self, n_neighbors, algorithm='brute'):\n",
    "        self.n_neighbors = n_neighbors\n",
    "        self.algorithm = algorithm\n",
    "\n",
    "    def fit(self, X, y):\n",
    "        self._y = y\n",
    "        self._classes = np.unique(y)\n",
    "\n",
    "        if self.algorithm == 'brute':\n",
    "            self._X = X\n",
    "            self._tree = None\n",
    "        elif self.algorithm == 'kd_tree':\n",
    "            self._tree = KDTree(X)\n",
    "        else:\n",
    "            raise Exception(\"Wrong algorithm!\")\n",
    "\n",
    "    def predict(self, X):\n",
    "        if self.algorithm == 'brute':\n",
    "            n_classes = self._n_classes(X)\n",
    "\n",
    "        elif self.algorithm == 'kd_tree':\n",
    "            distances, ind = self._tree.query(X, k=self.n_neighbors)\n",
    "            n_classes = self._y[ind]\n",
    "\n",
    "        most_common_class = stats.mode(n_classes, axis=1)\n",
    "        result = most_common_class[0].ravel()\n",
    "        return result\n",
    "\n",
    "    def predict_proba(self, X):\n",
    "        if self.algorithm == 'brute':\n",
    "            n_classes = np.asarray(self._n_classes(X), dtype='int64')\n",
    "\n",
    "        elif self.algorithm == 'kd_tree':\n",
    "            distances, ind = self._tree.query(X, k=self.n_neighbors)\n",
    "            n_classes = np.asarray(self._y[ind], dtype='int64')\n",
    "\n",
    "        most_common_class = stats.mode(n_classes, axis=1)\n",
    "        proba = np.apply_along_axis(\n",
    "            np.bincount,\n",
    "            axis=1,\n",
    "            arr=n_classes,\n",
    "            minlength=self._classes.shape[0])/self.n_neighbors\n",
    "        return proba\n",
    "\n",
    "    def score(self, X, y):\n",
    "        predicted = self.predict(X)\n",
    "        true_count = np.unique(predicted == y, return_counts=True)[1][-1]\n",
    "\n",
    "        return true_count / y.shape[0]\n"
   ]
  },
  {
   "cell_type": "markdown",
   "metadata": {},
   "source": [
    "**IRIS**"
   ]
  },
  {
   "cell_type": "code",
   "execution_count": 151,
   "metadata": {},
   "outputs": [],
   "source": [
    "iris = datasets.load_iris()"
   ]
  },
  {
   "cell_type": "code",
   "execution_count": 152,
   "metadata": {},
   "outputs": [],
   "source": [
    "X_train, X_test, y_train, y_test = train_test_split(iris.data, iris.target, test_size=0.1, stratify=iris.target)"
   ]
  },
  {
   "cell_type": "code",
   "execution_count": 153,
   "metadata": {},
   "outputs": [],
   "source": [
    "clf = KNeighborsClassifier(n_neighbors=2, algorithm='brute')\n",
    "my_clf = MyKNeighborsClassifier(n_neighbors=2, algorithm='brute')"
   ]
  },
  {
   "cell_type": "code",
   "execution_count": 154,
   "metadata": {},
   "outputs": [
    {
     "name": "stdout",
     "output_type": "stream",
     "text": [
      "Wall time: 0 ns\n"
     ]
    },
    {
     "data": {
      "text/plain": [
       "KNeighborsClassifier(algorithm='brute', leaf_size=30, metric='minkowski',\n",
       "           metric_params=None, n_jobs=None, n_neighbors=2, p=2,\n",
       "           weights='uniform')"
      ]
     },
     "execution_count": 154,
     "metadata": {},
     "output_type": "execute_result"
    }
   ],
   "source": [
    "%time clf.fit(X_train, y_train)"
   ]
  },
  {
   "cell_type": "code",
   "execution_count": 155,
   "metadata": {},
   "outputs": [
    {
     "name": "stdout",
     "output_type": "stream",
     "text": [
      "Wall time: 0 ns\n"
     ]
    }
   ],
   "source": [
    "%time my_clf.fit(X_train, y_train)"
   ]
  },
  {
   "cell_type": "code",
   "execution_count": 156,
   "metadata": {},
   "outputs": [
    {
     "name": "stdout",
     "output_type": "stream",
     "text": [
      "Wall time: 997 µs\n"
     ]
    },
    {
     "data": {
      "text/plain": [
       "array([0, 2, 2, 0, 2, 2, 0, 1, 1, 0, 2, 1, 0, 1, 1])"
      ]
     },
     "execution_count": 156,
     "metadata": {},
     "output_type": "execute_result"
    }
   ],
   "source": [
    "%time clf.predict(X_test)"
   ]
  },
  {
   "cell_type": "code",
   "execution_count": 157,
   "metadata": {},
   "outputs": [
    {
     "name": "stdout",
     "output_type": "stream",
     "text": [
      "Wall time: 997 µs\n"
     ]
    },
    {
     "data": {
      "text/plain": [
       "array([0, 2, 2, 0, 2, 2, 0, 1, 1, 0, 2, 1, 0, 1, 1])"
      ]
     },
     "execution_count": 157,
     "metadata": {},
     "output_type": "execute_result"
    }
   ],
   "source": [
    "%time my_clf.predict(X_test)"
   ]
  },
  {
   "cell_type": "code",
   "execution_count": 167,
   "metadata": {},
   "outputs": [
    {
     "name": "stdout",
     "output_type": "stream",
     "text": [
      "Wall time: 945 µs\n"
     ]
    },
    {
     "data": {
      "text/plain": [
       "array([[1., 0., 0.],\n",
       "       [0., 0., 1.],\n",
       "       [0., 0., 1.],\n",
       "       [1., 0., 0.],\n",
       "       [0., 0., 1.],\n",
       "       [0., 0., 1.],\n",
       "       [1., 0., 0.],\n",
       "       [0., 1., 0.],\n",
       "       [0., 1., 0.],\n",
       "       [1., 0., 0.],\n",
       "       [0., 0., 1.],\n",
       "       [0., 1., 0.],\n",
       "       [1., 0., 0.],\n",
       "       [0., 1., 0.],\n",
       "       [0., 1., 0.]])"
      ]
     },
     "execution_count": 167,
     "metadata": {},
     "output_type": "execute_result"
    }
   ],
   "source": [
    "%time clf.predict_proba(X_test)"
   ]
  },
  {
   "cell_type": "code",
   "execution_count": 171,
   "metadata": {},
   "outputs": [
    {
     "name": "stdout",
     "output_type": "stream",
     "text": [
      "Wall time: 960 µs\n"
     ]
    },
    {
     "data": {
      "text/plain": [
       "array([[1., 0., 0.],\n",
       "       [0., 0., 1.],\n",
       "       [0., 0., 1.],\n",
       "       [1., 0., 0.],\n",
       "       [0., 0., 1.],\n",
       "       [0., 0., 1.],\n",
       "       [1., 0., 0.],\n",
       "       [0., 1., 0.],\n",
       "       [0., 1., 0.],\n",
       "       [1., 0., 0.],\n",
       "       [0., 0., 1.],\n",
       "       [0., 1., 0.],\n",
       "       [1., 0., 0.],\n",
       "       [0., 1., 0.],\n",
       "       [0., 1., 0.]])"
      ]
     },
     "execution_count": 171,
     "metadata": {},
     "output_type": "execute_result"
    }
   ],
   "source": [
    "%time my_clf.predict_proba(X_test)"
   ]
  },
  {
   "cell_type": "code",
   "execution_count": 172,
   "metadata": {},
   "outputs": [
    {
     "data": {
      "text/plain": [
       "1.0"
      ]
     },
     "execution_count": 172,
     "metadata": {},
     "output_type": "execute_result"
    }
   ],
   "source": [
    "clf.score(X_test, y_test)"
   ]
  },
  {
   "cell_type": "code",
   "execution_count": 173,
   "metadata": {},
   "outputs": [
    {
     "data": {
      "text/plain": [
       "1.0"
      ]
     },
     "execution_count": 173,
     "metadata": {},
     "output_type": "execute_result"
    }
   ],
   "source": [
    "my_clf.score(X_test, y_test)"
   ]
  },
  {
   "cell_type": "markdown",
   "metadata": {},
   "source": [
    "Задание 3"
   ]
  },
  {
   "cell_type": "code",
   "execution_count": 31,
   "metadata": {},
   "outputs": [
    {
     "data": {
      "text/plain": [
       "[<matplotlib.lines.Line2D at 0x7f542c81fd30>]"
      ]
     },
     "execution_count": 31,
     "metadata": {},
     "output_type": "execute_result"
    },
    {
     "data": {
      "image/png": "[encoded data removed]",
      "text/plain": [
       "<Figure size 432x288 with 1 Axes>"
      ]
     },
     "metadata": {
      "needs_background": "light"
     },
     "output_type": "display_data"
    }
   ],
   "source": [
    "n_neighbors = range(1,50)\n",
    "accuracies = np.zeros(len(n_neighbors))\n",
    "iterations = 100\n",
    "\n",
    "for j in range (iterations):\n",
    "    X_train, X_test, y_train, y_test = train_test_split(iris.data, iris.target, test_size=0.1, stratify=iris.target)\n",
    "    for nn in n_neighbors:\n",
    "        knn = MyKNeighborsClassifier(n_neighbors=nn)\n",
    "        knn.fit(X_train, y_train)\n",
    "        accuracies[nn-1] += knn.score(X_test, y_test)\n",
    "        \n",
    "plt.xlabel('n_neighbors')\n",
    "plt.ylabel('accuracy_score')\n",
    "plt.plot(n_neighbors[:50], accuracies[:50]/iterations)"
   ]
  },
  {
   "cell_type": "markdown",
   "metadata": {},
   "source": [
    "**MNIST**"
   ]
  },
  {
   "cell_type": "code",
   "execution_count": 103,
   "metadata": {},
   "outputs": [],
   "source": [
    "mnist = fetch_openml('mnist_784')"
   ]
  },
  {
   "cell_type": "code",
   "execution_count": 174,
   "metadata": {},
   "outputs": [],
   "source": [
    "X_train, X_test, y_train, y_test = train_test_split(mnist.data, mnist.target, test_size=0.01, stratify=mnist.target)"
   ]
  },
  {
   "cell_type": "code",
   "execution_count": 175,
   "metadata": {},
   "outputs": [],
   "source": [
    "clf = KNeighborsClassifier(n_neighbors=2, algorithm='brute')\n",
    "my_clf = MyKNeighborsClassifier(n_neighbors=2, algorithm='brute')"
   ]
  },
  {
   "cell_type": "code",
   "execution_count": 176,
   "metadata": {},
   "outputs": [
    {
     "name": "stdout",
     "output_type": "stream",
     "text": [
      "Wall time: 217 ms\n"
     ]
    },
    {
     "data": {
      "text/plain": [
       "KNeighborsClassifier(algorithm='brute', leaf_size=30, metric='minkowski',\n",
       "           metric_params=None, n_jobs=None, n_neighbors=2, p=2,\n",
       "           weights='uniform')"
      ]
     },
     "execution_count": 176,
     "metadata": {},
     "output_type": "execute_result"
    }
   ],
   "source": [
    "%time clf.fit(X_train, y_train)"
   ]
  },
  {
   "cell_type": "code",
   "execution_count": 177,
   "metadata": {},
   "outputs": [
    {
     "name": "stdout",
     "output_type": "stream",
     "text": [
      "Wall time: 30.9 ms\n"
     ]
    }
   ],
   "source": [
    "%time my_clf.fit(X_train, y_train)"
   ]
  },
  {
   "cell_type": "code",
   "execution_count": 178,
   "metadata": {},
   "outputs": [
    {
     "name": "stdout",
     "output_type": "stream",
     "text": [
      "Wall time: 1.64 s\n"
     ]
    },
    {
     "data": {
      "text/plain": [
       "array(['3', '3', '1', '2', '0', '5', '7', '8', '7', '4', '8', '1', '1',\n",
       "       '0', '3', '6', '5', '7', '6', '2', '7', '2', '1', '4', '9', '2',\n",
       "       '4', '1', '1', '5', '5', '5', '8', '4', '6', '6', '9', '8', '0',\n",
       "       '1', '6', '2', '5', '0', '3', '9', '0', '2', '3', '3', '7', '4',\n",
       "       '3', '9', '8', '8', '6', '7', '6', '4', '9', '7', '0', '5', '8',\n",
       "       '5', '7', '4', '3', '7', '9', '9', '7', '8', '2', '7', '1', '6',\n",
       "       '6', '1', '1', '9', '1', '2', '9', '9', '1', '7', '1', '3', '2',\n",
       "       '1', '5', '6', '9', '5', '7', '6', '2', '4', '2', '6', '8', '3',\n",
       "       '4', '6', '5', '2', '5', '0', '4', '0', '7', '6', '0', '6', '8',\n",
       "       '7', '0', '6', '2', '7', '5', '2', '1', '1', '7', '8', '3', '0',\n",
       "       '2', '8', '2', '7', '8', '9', '9', '8', '2', '8', '0', '7', '1',\n",
       "       '8', '2', '2', '1', '1', '1', '3', '2', '2', '8', '6', '4', '9',\n",
       "       '1', '3', '9', '1', '2', '2', '7', '3', '8', '4', '5', '4', '8',\n",
       "       '3', '6', '5', '8', '1', '8', '4', '6', '5', '7', '6', '7', '6',\n",
       "       '9', '5', '0', '2', '1', '4', '3', '6', '3', '7', '8', '8', '1',\n",
       "       '0', '3', '2', '7', '4', '1', '1', '0', '1', '1', '6', '0', '9',\n",
       "       '4', '1', '6', '9', '7', '6', '0', '6', '2', '9', '4', '0', '3',\n",
       "       '2', '1', '7', '2', '9', '2', '0', '7', '3', '2', '9', '8', '1',\n",
       "       '2', '7', '5', '4', '5', '0', '8', '4', '0', '4', '0', '5', '7',\n",
       "       '0', '2', '6', '2', '0', '6', '5', '3', '3', '5', '6', '9', '1',\n",
       "       '1', '4', '1', '1', '1', '0', '4', '7', '4', '3', '2', '3', '1',\n",
       "       '5', '5', '7', '3', '2', '7', '6', '1', '6', '8', '0', '4', '1',\n",
       "       '4', '1', '7', '1', '4', '0', '8', '0', '5', '6', '8', '5', '6',\n",
       "       '5', '1', '9', '4', '6', '6', '0', '2', '0', '5', '2', '6', '4',\n",
       "       '0', '3', '9', '2', '7', '7', '1', '9', '5', '7', '3', '7', '1',\n",
       "       '9', '1', '7', '8', '0', '7', '5', '9', '7', '5', '3', '6', '2',\n",
       "       '7', '6', '7', '6', '7', '4', '3', '5', '7', '3', '4', '1', '1',\n",
       "       '0', '0', '2', '5', '6', '3', '1', '0', '2', '4', '4', '0', '5',\n",
       "       '5', '5', '8', '1', '1', '9', '9', '3', '9', '2', '2', '9', '6',\n",
       "       '0', '1', '7', '3', '2', '2', '6', '9', '3', '5', '0', '2', '7',\n",
       "       '6', '5', '0', '0', '9', '6', '8', '5', '2', '7', '7', '5', '9',\n",
       "       '8', '3', '2', '4', '7', '7', '2', '6', '4', '7', '3', '1', '5',\n",
       "       '8', '1', '6', '5', '4', '1', '4', '7', '9', '4', '7', '5', '4',\n",
       "       '0', '1', '4', '4', '9', '1', '5', '7', '3', '0', '2', '8', '3',\n",
       "       '9', '8', '9', '8', '8', '9', '8', '4', '2', '8', '3', '9', '3',\n",
       "       '6', '9', '7', '1', '8', '2', '7', '8', '3', '8', '6', '2', '7',\n",
       "       '0', '0', '1', '2', '4', '9', '5', '3', '4', '0', '7', '5', '2',\n",
       "       '5', '0', '9', '3', '3', '5', '1', '0', '2', '7', '6', '1', '2',\n",
       "       '7', '3', '1', '5', '9', '2', '9', '2', '4', '8', '2', '1', '0',\n",
       "       '6', '6', '4', '5', '7', '1', '0', '1', '8', '7', '3', '0', '6',\n",
       "       '1', '2', '1', '6', '6', '4', '1', '8', '5', '9', '7', '4', '9',\n",
       "       '6', '5', '6', '1', '3', '6', '9', '6', '2', '4', '9', '0', '0',\n",
       "       '5', '3', '2', '0', '3', '0', '6', '8', '3', '9', '4', '7', '9',\n",
       "       '6', '5', '7', '0', '6', '3', '3', '8', '4', '9', '2', '3', '1',\n",
       "       '8', '6', '8', '4', '5', '5', '9', '8', '8', '0', '4', '3', '2',\n",
       "       '0', '7', '5', '4', '8', '2', '0', '4', '7', '9', '8', '8', '4',\n",
       "       '9', '1', '4', '0', '0', '1', '9', '1', '3', '0', '2', '7', '1',\n",
       "       '0', '0', '9', '9', '9', '2', '3', '4', '5', '9', '3', '3', '5',\n",
       "       '5', '0', '9', '3', '2', '9', '3', '0', '9', '0', '4', '4', '4',\n",
       "       '7', '8', '3', '1', '1', '4', '3', '2', '4', '4', '0', '5', '1',\n",
       "       '0', '7', '1', '6', '9', '9', '6', '0', '8', '9', '3', '3', '6',\n",
       "       '4', '3', '2', '7', '3', '0', '3', '1', '5', '0', '6', '7', '3',\n",
       "       '1', '8', '3', '5', '8', '9', '5', '6', '1', '0', '4', '9', '0',\n",
       "       '6', '5', '1', '7', '6', '5', '1', '6', '8', '0', '3'],\n",
       "      dtype=object)"
      ]
     },
     "execution_count": 178,
     "metadata": {},
     "output_type": "execute_result"
    }
   ],
   "source": [
    "%time clf.predict(X_test)"
   ]
  },
  {
   "cell_type": "code",
   "execution_count": 179,
   "metadata": {},
   "outputs": [
    {
     "name": "stdout",
     "output_type": "stream",
     "text": [
      "Wall time: 1.71 s\n"
     ]
    },
    {
     "data": {
      "text/plain": [
       "array(['3', '3', '1', '2', '0', '5', '7', '8', '7', '4', '8', '1', '1',\n",
       "       '0', '3', '6', '5', '7', '6', '2', '7', '2', '1', '4', '9', '2',\n",
       "       '4', '1', '1', '5', '5', '5', '8', '4', '6', '6', '9', '8', '0',\n",
       "       '1', '6', '2', '5', '0', '3', '9', '0', '2', '3', '3', '7', '4',\n",
       "       '3', '9', '8', '8', '6', '7', '6', '4', '9', '7', '0', '5', '8',\n",
       "       '5', '7', '4', '3', '7', '9', '9', '7', '8', '2', '7', '1', '6',\n",
       "       '6', '1', '1', '9', '1', '2', '9', '9', '1', '7', '1', '3', '2',\n",
       "       '1', '5', '6', '9', '5', '7', '6', '2', '4', '2', '6', '8', '3',\n",
       "       '4', '6', '5', '2', '5', '0', '4', '0', '7', '6', '0', '6', '8',\n",
       "       '7', '0', '6', '2', '7', '5', '2', '1', '1', '7', '8', '3', '0',\n",
       "       '2', '8', '2', '7', '8', '9', '9', '8', '2', '8', '0', '7', '1',\n",
       "       '8', '2', '2', '1', '1', '1', '3', '2', '2', '8', '6', '4', '9',\n",
       "       '1', '3', '9', '1', '2', '2', '7', '3', '8', '4', '5', '4', '8',\n",
       "       '3', '6', '5', '8', '1', '8', '4', '6', '5', '7', '6', '7', '6',\n",
       "       '9', '5', '0', '2', '1', '4', '3', '6', '3', '7', '8', '8', '1',\n",
       "       '0', '3', '2', '7', '4', '1', '1', '0', '1', '1', '6', '0', '9',\n",
       "       '4', '1', '6', '9', '7', '6', '0', '6', '2', '9', '4', '0', '3',\n",
       "       '2', '1', '7', '2', '9', '2', '0', '7', '3', '2', '9', '8', '1',\n",
       "       '2', '7', '5', '4', '5', '0', '8', '4', '0', '4', '0', '5', '7',\n",
       "       '0', '2', '6', '2', '0', '6', '5', '3', '3', '5', '6', '9', '1',\n",
       "       '1', '4', '1', '1', '1', '0', '4', '7', '4', '3', '2', '3', '1',\n",
       "       '5', '5', '7', '3', '2', '7', '6', '1', '6', '8', '0', '4', '1',\n",
       "       '4', '1', '7', '1', '4', '0', '8', '0', '5', '6', '8', '5', '6',\n",
       "       '5', '1', '9', '4', '6', '6', '0', '2', '0', '5', '2', '6', '4',\n",
       "       '0', '3', '9', '2', '7', '7', '1', '9', '5', '7', '3', '7', '1',\n",
       "       '9', '1', '7', '8', '0', '7', '5', '9', '7', '5', '3', '6', '2',\n",
       "       '7', '6', '7', '6', '7', '4', '3', '5', '7', '3', '4', '1', '1',\n",
       "       '0', '0', '2', '5', '6', '3', '1', '0', '2', '4', '4', '0', '5',\n",
       "       '5', '5', '8', '1', '1', '9', '9', '3', '9', '2', '2', '9', '6',\n",
       "       '0', '1', '7', '3', '2', '2', '6', '9', '3', '5', '0', '2', '7',\n",
       "       '6', '5', '0', '0', '9', '6', '8', '5', '2', '7', '7', '5', '9',\n",
       "       '8', '3', '2', '4', '7', '7', '2', '6', '4', '7', '3', '1', '5',\n",
       "       '8', '1', '6', '5', '4', '1', '4', '7', '9', '4', '7', '5', '4',\n",
       "       '0', '1', '4', '4', '9', '1', '5', '7', '3', '0', '2', '8', '3',\n",
       "       '9', '8', '9', '8', '8', '9', '8', '4', '2', '8', '3', '9', '3',\n",
       "       '6', '9', '7', '1', '8', '2', '7', '8', '3', '8', '6', '2', '7',\n",
       "       '0', '0', '1', '2', '4', '9', '5', '3', '4', '0', '7', '5', '2',\n",
       "       '5', '0', '9', '3', '3', '5', '1', '0', '2', '7', '6', '1', '2',\n",
       "       '7', '3', '1', '5', '9', '2', '9', '2', '4', '8', '2', '1', '0',\n",
       "       '6', '6', '4', '5', '7', '1', '0', '1', '8', '7', '3', '0', '6',\n",
       "       '1', '2', '1', '6', '6', '4', '1', '8', '5', '9', '7', '4', '9',\n",
       "       '6', '5', '6', '1', '3', '6', '9', '6', '2', '4', '9', '0', '0',\n",
       "       '5', '3', '2', '0', '3', '0', '6', '8', '3', '9', '4', '7', '9',\n",
       "       '6', '5', '7', '0', '6', '3', '3', '8', '4', '9', '2', '3', '1',\n",
       "       '8', '6', '8', '4', '5', '5', '9', '8', '8', '0', '4', '3', '2',\n",
       "       '0', '7', '5', '4', '8', '2', '0', '4', '7', '9', '8', '8', '4',\n",
       "       '9', '1', '4', '0', '0', '1', '9', '1', '3', '0', '2', '7', '1',\n",
       "       '0', '0', '9', '9', '9', '2', '3', '4', '5', '9', '3', '3', '5',\n",
       "       '5', '0', '9', '3', '2', '9', '3', '0', '9', '0', '4', '4', '4',\n",
       "       '7', '8', '3', '1', '1', '4', '3', '2', '4', '4', '0', '5', '1',\n",
       "       '0', '7', '1', '6', '9', '9', '6', '0', '8', '9', '3', '3', '6',\n",
       "       '4', '3', '2', '7', '3', '0', '3', '1', '5', '0', '6', '7', '3',\n",
       "       '1', '8', '3', '5', '8', '9', '5', '6', '1', '0', '4', '9', '0',\n",
       "       '6', '5', '1', '7', '6', '5', '1', '6', '8', '0', '3'],\n",
       "      dtype=object)"
      ]
     },
     "execution_count": 179,
     "metadata": {},
     "output_type": "execute_result"
    }
   ],
   "source": [
    "%time my_clf.predict(X_test)"
   ]
  },
  {
   "cell_type": "code",
   "execution_count": 110,
   "metadata": {},
   "outputs": [
    {
     "name": "stdout",
     "output_type": "stream",
     "text": [
      "Wall time: 2.07 s\n"
     ]
    },
    {
     "data": {
      "text/plain": [
       "array([[0. , 0. , 0. , ..., 0. , 0. , 0. ],\n",
       "       [0. , 0. , 0.5, ..., 0.5, 0. , 0. ],\n",
       "       [0. , 1. , 0. , ..., 0. , 0. , 0. ],\n",
       "       ...,\n",
       "       [0. , 0. , 0. , ..., 1. , 0. , 0. ],\n",
       "       [0. , 0. , 0. , ..., 0. , 0. , 0. ],\n",
       "       [0. , 0. , 0. , ..., 0. , 0. , 0. ]])"
      ]
     },
     "execution_count": 110,
     "metadata": {},
     "output_type": "execute_result"
    }
   ],
   "source": [
    "%time clf.predict_proba(X_test)"
   ]
  },
  {
   "cell_type": "code",
   "execution_count": 111,
   "metadata": {},
   "outputs": [
    {
     "name": "stdout",
     "output_type": "stream",
     "text": [
      "Wall time: 1.94 s\n"
     ]
    },
    {
     "data": {
      "text/plain": [
       "array([[0. , 0. , 0. , ..., 0. , 0. , 0. ],\n",
       "       [0. , 0. , 0.5, ..., 0.5, 0. , 0. ],\n",
       "       [0. , 1. , 0. , ..., 0. , 0. , 0. ],\n",
       "       ...,\n",
       "       [0. , 0. , 0. , ..., 1. , 0. , 0. ],\n",
       "       [0. , 0. , 0. , ..., 0. , 0. , 0. ],\n",
       "       [0. , 0. , 0. , ..., 0. , 0. , 0. ]])"
      ]
     },
     "execution_count": 111,
     "metadata": {},
     "output_type": "execute_result"
    }
   ],
   "source": [
    "%time my_clf.predict_proba(X_test)"
   ]
  },
  {
   "cell_type": "code",
   "execution_count": 112,
   "metadata": {},
   "outputs": [
    {
     "data": {
      "text/plain": [
       "0.9657142857142857"
      ]
     },
     "execution_count": 112,
     "metadata": {},
     "output_type": "execute_result"
    }
   ],
   "source": [
    "clf.score(X_test, y_test)"
   ]
  },
  {
   "cell_type": "code",
   "execution_count": 113,
   "metadata": {},
   "outputs": [
    {
     "data": {
      "text/plain": [
       "0.9657142857142857"
      ]
     },
     "execution_count": 113,
     "metadata": {},
     "output_type": "execute_result"
    }
   ],
   "source": [
    "my_clf.score(X_test, y_test)"
   ]
  },
  {
   "cell_type": "markdown",
   "metadata": {},
   "source": [
    "Задание 4"
   ]
  },
  {
   "cell_type": "code",
   "execution_count": 180,
   "metadata": {},
   "outputs": [],
   "source": [
    "clf = KNeighborsClassifier(n_neighbors=2, algorithm='kd_tree')\n",
    "my_clf = MyKNeighborsClassifier(n_neighbors=2, algorithm='kd_tree')"
   ]
  },
  {
   "cell_type": "code",
   "execution_count": 181,
   "metadata": {},
   "outputs": [],
   "source": [
    "X_train, X_test, y_train, y_test = train_test_split(mnist.data, mnist.target, test_size=0.01, stratify=mnist.target)"
   ]
  },
  {
   "cell_type": "code",
   "execution_count": 182,
   "metadata": {},
   "outputs": [
    {
     "name": "stdout",
     "output_type": "stream",
     "text": [
      "Wall time: 26.7 s\n"
     ]
    },
    {
     "data": {
      "text/plain": [
       "KNeighborsClassifier(algorithm='kd_tree', leaf_size=30, metric='minkowski',\n",
       "           metric_params=None, n_jobs=None, n_neighbors=2, p=2,\n",
       "           weights='uniform')"
      ]
     },
     "execution_count": 182,
     "metadata": {},
     "output_type": "execute_result"
    }
   ],
   "source": [
    "%time clf.fit(X_train, y_train)"
   ]
  },
  {
   "cell_type": "code",
   "execution_count": 183,
   "metadata": {},
   "outputs": [
    {
     "name": "stdout",
     "output_type": "stream",
     "text": [
      "Wall time: 25.2 s\n"
     ]
    }
   ],
   "source": [
    "%time my_clf.fit(X_train, y_train)"
   ]
  },
  {
   "cell_type": "code",
   "execution_count": 185,
   "metadata": {},
   "outputs": [
    {
     "name": "stdout",
     "output_type": "stream",
     "text": [
      "Wall time: 1min 10s\n"
     ]
    },
    {
     "data": {
      "text/plain": [
       "array(['5', '3', '5', '6', '7', '8', '2', '4', '9', '9', '9', '9', '2',\n",
       "       '4', '7', '3', '5', '5', '7', '4', '4', '7', '7', '6', '3', '4',\n",
       "       '7', '9', '6', '6', '0', '0', '1', '4', '2', '5', '0', '0', '9',\n",
       "       '9', '1', '8', '8', '7', '5', '8', '4', '1', '9', '4', '1', '0',\n",
       "       '4', '5', '6', '8', '7', '4', '1', '7', '6', '0', '2', '3', '8',\n",
       "       '0', '4', '6', '4', '7', '0', '4', '0', '7', '1', '8', '6', '6',\n",
       "       '1', '3', '1', '8', '6', '4', '6', '3', '7', '6', '3', '3', '4',\n",
       "       '9', '2', '7', '7', '8', '3', '9', '8', '7', '9', '1', '5', '5',\n",
       "       '5', '0', '0', '6', '5', '8', '6', '2', '6', '3', '8', '2', '3',\n",
       "       '3', '7', '5', '8', '0', '1', '4', '0', '8', '7', '2', '7', '4',\n",
       "       '1', '9', '8', '0', '1', '3', '2', '8', '2', '5', '1', '4', '1',\n",
       "       '7', '0', '2', '8', '1', '6', '6', '8', '1', '2', '3', '5', '4',\n",
       "       '4', '2', '1', '4', '0', '1', '1', '2', '0', '2', '3', '4', '1',\n",
       "       '0', '3', '1', '1', '0', '1', '6', '3', '3', '1', '0', '5', '1',\n",
       "       '4', '7', '7', '2', '7', '0', '1', '1', '8', '7', '2', '3', '7',\n",
       "       '0', '7', '8', '4', '9', '2', '4', '3', '9', '7', '8', '3', '4',\n",
       "       '9', '5', '7', '3', '5', '1', '1', '8', '1', '1', '6', '4', '9',\n",
       "       '7', '2', '5', '2', '5', '9', '3', '6', '2', '5', '3', '0', '2',\n",
       "       '7', '2', '1', '2', '1', '3', '5', '6', '1', '7', '9', '5', '7',\n",
       "       '1', '8', '7', '3', '2', '5', '8', '3', '1', '0', '4', '9', '6',\n",
       "       '3', '9', '5', '6', '4', '0', '7', '2', '3', '2', '0', '0', '3',\n",
       "       '7', '4', '9', '4', '0', '3', '5', '9', '5', '8', '4', '1', '2',\n",
       "       '0', '2', '6', '4', '7', '9', '4', '5', '8', '5', '6', '1', '4',\n",
       "       '8', '0', '4', '7', '9', '6', '5', '2', '0', '3', '0', '4', '4',\n",
       "       '1', '6', '1', '0', '0', '1', '5', '8', '5', '5', '7', '8', '2',\n",
       "       '3', '3', '7', '9', '9', '3', '1', '1', '6', '6', '0', '9', '8',\n",
       "       '2', '4', '2', '0', '8', '9', '9', '0', '6', '1', '3', '4', '2',\n",
       "       '2', '5', '9', '2', '9', '0', '2', '1', '5', '3', '0', '8', '2',\n",
       "       '3', '2', '2', '9', '3', '7', '9', '6', '4', '6', '7', '0', '5',\n",
       "       '2', '8', '0', '4', '6', '0', '1', '1', '4', '5', '4', '4', '6',\n",
       "       '1', '7', '5', '3', '3', '2', '1', '9', '3', '7', '7', '5', '6',\n",
       "       '1', '9', '3', '6', '4', '2', '3', '1', '5', '5', '6', '7', '1',\n",
       "       '5', '3', '8', '2', '9', '5', '9', '3', '0', '2', '7', '9', '6',\n",
       "       '0', '3', '5', '9', '8', '1', '8', '8', '2', '6', '0', '3', '0',\n",
       "       '2', '7', '9', '7', '9', '3', '5', '7', '1', '2', '6', '5', '8',\n",
       "       '1', '9', '5', '4', '8', '0', '3', '7', '4', '1', '0', '9', '0',\n",
       "       '8', '7', '0', '3', '1', '3', '3', '4', '5', '2', '6', '7', '8',\n",
       "       '8', '5', '4', '3', '0', '9', '4', '7', '4', '1', '8', '1', '6',\n",
       "       '5', '1', '9', '4', '9', '5', '2', '7', '0', '5', '4', '0', '6',\n",
       "       '7', '3', '6', '8', '3', '6', '9', '1', '1', '6', '5', '3', '6',\n",
       "       '9', '2', '5', '2', '7', '7', '7', '1', '3', '2', '3', '0', '8',\n",
       "       '7', '0', '3', '2', '3', '6', '1', '3', '6', '8', '7', '4', '2',\n",
       "       '8', '4', '9', '0', '3', '8', '2', '6', '8', '2', '9', '1', '7',\n",
       "       '6', '2', '5', '3', '6', '1', '1', '6', '1', '6', '3', '1', '7',\n",
       "       '2', '7', '9', '4', '5', '4', '9', '6', '5', '9', '0', '2', '2',\n",
       "       '4', '9', '8', '4', '4', '0', '3', '6', '7', '0', '4', '1', '6',\n",
       "       '0', '6', '0', '3', '1', '3', '7', '3', '4', '3', '7', '4', '9',\n",
       "       '3', '0', '8', '5', '1', '8', '9', '8', '6', '6', '3', '1', '4',\n",
       "       '5', '7', '9', '8', '2', '9', '2', '9', '9', '7', '2', '0', '8',\n",
       "       '9', '2', '8', '2', '4', '1', '2', '0', '3', '4', '9', '1', '6',\n",
       "       '6', '7', '0', '0', '2', '0', '9', '2', '4', '6', '4', '6', '9',\n",
       "       '3', '6', '8', '3', '3', '9', '1', '8', '0', '1', '4', '1', '5',\n",
       "       '1', '1', '8', '3', '4', '5', '1', '5', '5', '3', '8', '0', '9',\n",
       "       '6', '1', '2', '9', '0', '7', '7', '6', '4', '6', '1'],\n",
       "      dtype=object)"
      ]
     },
     "execution_count": 185,
     "metadata": {},
     "output_type": "execute_result"
    }
   ],
   "source": [
    "%time clf.predict(X_test)"
   ]
  },
  {
   "cell_type": "code",
   "execution_count": 184,
   "metadata": {},
   "outputs": [
    {
     "name": "stdout",
     "output_type": "stream",
     "text": [
      "Wall time: 57.4 s\n"
     ]
    },
    {
     "data": {
      "text/plain": [
       "array(['5', '3', '5', '6', '7', '8', '2', '4', '9', '9', '9', '9', '2',\n",
       "       '4', '7', '3', '5', '5', '7', '4', '4', '7', '7', '6', '3', '4',\n",
       "       '7', '9', '6', '6', '0', '0', '1', '4', '2', '5', '0', '0', '9',\n",
       "       '9', '1', '8', '8', '7', '5', '8', '4', '1', '9', '4', '1', '0',\n",
       "       '4', '5', '6', '8', '7', '4', '1', '7', '6', '0', '2', '3', '8',\n",
       "       '0', '4', '6', '4', '7', '0', '4', '0', '7', '1', '8', '6', '6',\n",
       "       '1', '3', '1', '8', '6', '4', '6', '3', '7', '6', '3', '3', '4',\n",
       "       '9', '2', '7', '7', '8', '3', '9', '8', '7', '9', '1', '5', '5',\n",
       "       '5', '0', '0', '6', '5', '8', '6', '2', '6', '3', '8', '2', '3',\n",
       "       '3', '7', '5', '8', '0', '1', '4', '0', '8', '7', '2', '7', '4',\n",
       "       '1', '9', '8', '0', '1', '3', '2', '8', '2', '5', '1', '4', '1',\n",
       "       '7', '0', '2', '8', '1', '6', '6', '8', '1', '2', '3', '5', '4',\n",
       "       '4', '2', '1', '4', '0', '1', '1', '2', '0', '2', '3', '4', '1',\n",
       "       '0', '3', '1', '1', '0', '1', '6', '3', '3', '1', '0', '5', '1',\n",
       "       '4', '7', '7', '2', '7', '0', '1', '1', '8', '7', '2', '3', '7',\n",
       "       '0', '7', '8', '4', '9', '2', '4', '3', '9', '7', '8', '3', '4',\n",
       "       '9', '5', '7', '3', '5', '1', '1', '8', '1', '1', '6', '4', '9',\n",
       "       '7', '2', '5', '2', '5', '9', '3', '6', '2', '5', '3', '0', '2',\n",
       "       '7', '2', '1', '2', '1', '3', '5', '6', '1', '7', '9', '5', '7',\n",
       "       '1', '8', '7', '3', '2', '5', '8', '3', '1', '0', '4', '9', '6',\n",
       "       '3', '9', '5', '6', '4', '0', '7', '2', '3', '2', '0', '0', '3',\n",
       "       '7', '4', '9', '4', '0', '3', '5', '9', '5', '8', '4', '1', '2',\n",
       "       '0', '2', '6', '4', '7', '9', '4', '5', '8', '5', '6', '1', '4',\n",
       "       '8', '0', '4', '7', '9', '6', '5', '2', '0', '3', '0', '4', '4',\n",
       "       '1', '6', '1', '0', '0', '1', '5', '8', '5', '5', '7', '8', '2',\n",
       "       '3', '3', '7', '9', '9', '3', '1', '1', '6', '6', '0', '9', '8',\n",
       "       '2', '4', '2', '0', '8', '9', '9', '0', '6', '1', '3', '4', '2',\n",
       "       '2', '5', '9', '2', '9', '0', '2', '1', '5', '3', '0', '8', '2',\n",
       "       '3', '2', '2', '9', '3', '7', '9', '6', '4', '6', '7', '0', '5',\n",
       "       '2', '8', '0', '4', '6', '0', '1', '1', '4', '5', '4', '4', '6',\n",
       "       '1', '7', '5', '3', '3', '2', '1', '9', '3', '7', '7', '5', '6',\n",
       "       '1', '9', '3', '6', '4', '2', '3', '1', '5', '5', '6', '7', '1',\n",
       "       '5', '3', '8', '2', '9', '5', '9', '3', '0', '2', '7', '9', '6',\n",
       "       '0', '3', '5', '9', '8', '1', '8', '8', '2', '6', '0', '3', '0',\n",
       "       '2', '7', '9', '7', '9', '3', '5', '7', '1', '2', '6', '5', '8',\n",
       "       '1', '9', '5', '4', '8', '0', '3', '7', '4', '1', '0', '9', '0',\n",
       "       '8', '7', '0', '3', '1', '3', '3', '4', '5', '2', '6', '7', '8',\n",
       "       '8', '5', '4', '3', '0', '9', '4', '7', '4', '1', '8', '1', '6',\n",
       "       '5', '1', '9', '4', '9', '5', '2', '7', '0', '5', '4', '0', '6',\n",
       "       '7', '3', '6', '8', '3', '6', '9', '1', '1', '6', '5', '3', '6',\n",
       "       '9', '2', '5', '2', '7', '7', '7', '1', '3', '2', '3', '0', '8',\n",
       "       '7', '0', '3', '2', '3', '6', '1', '3', '6', '8', '7', '4', '2',\n",
       "       '8', '4', '9', '0', '3', '8', '2', '6', '8', '2', '9', '1', '7',\n",
       "       '6', '2', '5', '3', '6', '1', '1', '6', '1', '6', '3', '1', '7',\n",
       "       '2', '7', '9', '4', '5', '4', '9', '6', '5', '9', '0', '2', '2',\n",
       "       '4', '9', '8', '4', '4', '0', '3', '6', '7', '0', '4', '1', '6',\n",
       "       '0', '6', '0', '3', '1', '3', '7', '3', '4', '3', '7', '4', '9',\n",
       "       '3', '0', '8', '5', '1', '8', '9', '8', '6', '6', '3', '1', '4',\n",
       "       '5', '7', '9', '8', '2', '9', '2', '9', '9', '7', '2', '0', '8',\n",
       "       '9', '2', '8', '2', '4', '1', '2', '0', '3', '4', '9', '1', '6',\n",
       "       '6', '7', '0', '0', '2', '0', '9', '2', '4', '6', '4', '6', '9',\n",
       "       '3', '6', '8', '3', '3', '9', '1', '8', '0', '1', '4', '1', '5',\n",
       "       '1', '1', '8', '3', '4', '5', '1', '5', '5', '3', '8', '0', '9',\n",
       "       '6', '1', '2', '9', '0', '7', '7', '6', '4', '6', '1'],\n",
       "      dtype=object)"
      ]
     },
     "execution_count": 184,
     "metadata": {},
     "output_type": "execute_result"
    }
   ],
   "source": [
    "%time my_clf.predict(X_test)"
   ]
  },
  {
   "cell_type": "code",
   "execution_count": 120,
   "metadata": {},
   "outputs": [
    {
     "name": "stdout",
     "output_type": "stream",
     "text": [
      "Wall time: 1min 11s\n"
     ]
    },
    {
     "data": {
      "text/plain": [
       "array([[0., 0., 1., ..., 0., 0., 0.],\n",
       "       [0., 0., 0., ..., 0., 0., 1.],\n",
       "       [0., 0., 0., ..., 0., 1., 0.],\n",
       "       ...,\n",
       "       [0., 0., 0., ..., 0., 0., 0.],\n",
       "       [0., 0., 0., ..., 0., 0., 0.],\n",
       "       [0., 0., 0., ..., 0., 0., 0.]])"
      ]
     },
     "execution_count": 120,
     "metadata": {},
     "output_type": "execute_result"
    }
   ],
   "source": [
    "%time clf.predict_proba(X_test)"
   ]
  },
  {
   "cell_type": "code",
   "execution_count": 121,
   "metadata": {},
   "outputs": [
    {
     "name": "stdout",
     "output_type": "stream",
     "text": [
      "Wall time: 1min\n"
     ]
    },
    {
     "data": {
      "text/plain": [
       "array([[0., 0., 1., ..., 0., 0., 0.],\n",
       "       [0., 0., 0., ..., 0., 0., 1.],\n",
       "       [0., 0., 0., ..., 0., 1., 0.],\n",
       "       ...,\n",
       "       [0., 0., 0., ..., 0., 0., 0.],\n",
       "       [0., 0., 0., ..., 0., 0., 0.],\n",
       "       [0., 0., 0., ..., 0., 0., 0.]])"
      ]
     },
     "execution_count": 121,
     "metadata": {},
     "output_type": "execute_result"
    }
   ],
   "source": [
    "%time my_clf.predict_proba(X_test)"
   ]
  },
  {
   "cell_type": "code",
   "execution_count": 122,
   "metadata": {},
   "outputs": [
    {
     "data": {
      "text/plain": [
       "0.9742857142857143"
      ]
     },
     "execution_count": 122,
     "metadata": {},
     "output_type": "execute_result"
    }
   ],
   "source": [
    "clf.score(X_test, y_test)"
   ]
  },
  {
   "cell_type": "code",
   "execution_count": 123,
   "metadata": {},
   "outputs": [
    {
     "data": {
      "text/plain": [
       "0.9742857142857143"
      ]
     },
     "execution_count": 123,
     "metadata": {},
     "output_type": "execute_result"
    }
   ],
   "source": [
    "my_clf.score(X_test, y_test)"
   ]
  },
  {
   "cell_type": "markdown",
   "metadata": {},
   "source": [
    "Задание 5"
   ]
  },
  {
   "cell_type": "code",
   "execution_count": 124,
   "metadata": {},
   "outputs": [],
   "source": [
    "# seaborn -         Это популярная библиотека визуализации, которая строит графики на основе Matplotlib.\n",
    "#                   Она предоставляет высокоуровневый интерфейс для рисования привлекательной и информативной статистической графики.\n",
    "# matplotlib -      Библиотека для построения графиков. \n",
    "#                   Позволяет быстро строить такие вещи как plots, histograms, power spectra, bar charts, errorcharts, scatterplots\n",
    "# train_test_split- Перемешивает случайным образом и разбивает набор входных (X) и выходных/предсказываемых (y) данных\n",
    "#                   на тренировочный и тестируемый сеты X_train, X_test, y_train, y_test\n",
    "# Pipelin%load_ext e (from sklearn.pipeline import Pipeline) - Модуль реализует утилиту для построения\n",
    "#                   составной оценки в виде цепочки преобразований и оценок.\n",
    "#                   Pipeline функционирует как составной (конвейерный) классификатор\n",
    "# StandardScaler (from sklearn.preprocessing import StandardScaler) - нормализует признаки (стандартизация) \n",
    "#                   для набора x: значение z = (x - u) / s, где u - среднее трейна, а s - стандартное отклонение\n",
    "# ClassifierMixin - Класс, базовый для всех классификаторов в scikit-learn.\n",
    "#                   Основной метод score возвращает среднюю точность данных теста.\n",
    "#                   Является родительским для KNeighborsClassifier\n",
    "# NeighborsBase -   Базовый класс для оценки методом ближайших соседей.\n",
    "#                   В нем основная инициализация большинства нужных для KNN полей. Метод подбора оптимального алгоритма\n",
    "#                   исходя из выбранной метрики и тд.\n",
    "#                   Является родительским для KNeighborsClassifier\n",
    "# KNeighborsMixin - Класс, отвечающий за сам поиск ближайших соседей.\n",
    "#                   Основной метод kneighbors возвращает дистанции и индексы для каждой точки.\n",
    "#                   Является родительским для KNeighborsClassifier\n",
    "# SupervisedIntegerMixin - класс, который \"обучает\" модель, используя X в качестве обучающих данных и y в качестве целевых значений.\n",
    "#                   Является родительским для KNeighborsClassifier"
   ]
  },
  {
   "cell_type": "code",
   "execution_count": null,
   "metadata": {},
   "outputs": [],
   "source": []
  }
 ],
 "metadata": {
  "kernelspec": {
   "display_name": "Python 3",
   "language": "python",
   "name": "python3"
  },
  "language_info": {
   "codemirror_mode": {
    "name": "ipython",
    "version": 3
   },
   "file_extension": ".py",
   "mimetype": "text/x-python",
   "name": "python",
   "nbconvert_exporter": "python",
   "pygments_lexer": "ipython3",
   "version": "3.7.1"
  }
 },
 "nbformat": 4,
 "nbformat_minor": 2
}
